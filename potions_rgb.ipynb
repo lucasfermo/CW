{
 "cells": [
  {
   "cell_type": "code",
   "execution_count": null,
   "metadata": {},
   "outputs": [],
   "source": []
  },
  {
   "cell_type": "code",
   "execution_count": 60,
   "metadata": {},
   "outputs": [
    {
     "data": {
      "text/plain": [
       "(147, 149, 130)"
      ]
     },
     "execution_count": 60,
     "metadata": {},
     "output_type": "execute_result"
    }
   ],
   "source": [
    "import math\n",
    "\n",
    "class Potion:\n",
    "    def __init__(self, color, volume):\n",
    "        self.color=color\n",
    "        self.volume=volume\n",
    "    \n",
    "    def mix(self, other):\n",
    "        newVolume=self.volume+other.volume\n",
    "        firstColor=[x * self.volume for x in self.color]\n",
    "        secondColor=[x * other.volume for x in other.color]\n",
    "        color=[math.ceil((firstColor[i] + secondColor[i]) / newVolume) for i,x in enumerate(firstColor) ]\n",
    "        self.color=tuple(color)\n",
    "        self.volume=newVolume \n",
    "        \n",
    "        return self\n",
    "        \n",
    "potions = [\n",
    "    Potion((153, 210, 199), 32),\n",
    "    Potion((135,  34,   0), 17),\n",
    "    Potion((18,   19,  20), 25),\n",
    "    Potion((174, 211,  13),  4),\n",
    "    Potion((255,  23, 148), 19),\n",
    "    Potion((51,  102,  51),  6)\n",
    "]\n",
    "\n",
    "\n",
    "a=potions[0].mix(potions[1])\n",
    "a.color"
   ]
  }
 ],
 "metadata": {
  "kernelspec": {
   "display_name": "Python 3",
   "language": "python",
   "name": "python3"
  },
  "language_info": {
   "codemirror_mode": {
    "name": "ipython",
    "version": 3
   },
   "file_extension": ".py",
   "mimetype": "text/x-python",
   "name": "python",
   "nbconvert_exporter": "python",
   "pygments_lexer": "ipython3",
   "version": "3.7.1"
  }
 },
 "nbformat": 4,
 "nbformat_minor": 2
}
