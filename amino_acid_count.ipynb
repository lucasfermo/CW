{
 "cells": [
  {
   "cell_type": "code",
   "execution_count": null,
   "metadata": {},
   "outputs": [],
   "source": []
  },
  {
   "cell_type": "code",
   "execution_count": 101,
   "metadata": {},
   "outputs": [
    {
     "data": {
      "text/plain": [
       "55"
      ]
     },
     "execution_count": 101,
     "metadata": {},
     "output_type": "execute_result"
    }
   ],
   "source": [
    "def aa_percentage(*args):\n",
    "    acidList=args[0]\n",
    "    acids=[\"A\", \"I\", \"L\", \"M\", \"F\", \"W\", \"Y\", \"V\"]\n",
    "    if len(args)>1:\n",
    "        acids=args[1]\n",
    "    \n",
    "    d={a:0 for a in acids}\n",
    "    x=0\n",
    "    for v in acidList:\n",
    "        if d.get(v) != None :\n",
    "            x+=1\n",
    "    return int(\"%.f\" % (x/(len(acidList))*100))\n",
    "    \n",
    "aa_percentage(\"MSRSLLLRFLLFLLLLPPLP\",[\"M\", \"L\"])"
   ]
  }
 ],
 "metadata": {
  "kernelspec": {
   "display_name": "Python 3",
   "language": "python",
   "name": "python3"
  },
  "language_info": {
   "codemirror_mode": {
    "name": "ipython",
    "version": 3
   },
   "file_extension": ".py",
   "mimetype": "text/x-python",
   "name": "python",
   "nbconvert_exporter": "python",
   "pygments_lexer": "ipython3",
   "version": "3.7.1"
  }
 },
 "nbformat": 4,
 "nbformat_minor": 2
}
