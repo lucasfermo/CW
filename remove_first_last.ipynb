{
 "cells": [
  {
   "cell_type": "code",
   "execution_count": null,
   "metadata": {},
   "outputs": [],
   "source": []
  },
  {
   "cell_type": "code",
   "execution_count": 186,
   "metadata": {},
   "outputs": [
    {
     "data": {
      "text/plain": [
       "11"
      ]
     },
     "execution_count": 186,
     "metadata": {},
     "output_type": "execute_result"
    }
   ],
   "source": [
    "def range_bit_count(a, b):\n",
    "    return sum(sum([[int(x) for x in to_bin(v)] for v in range(a,b+1)],[]))\n",
    "    \n",
    "def to_bin(n):\n",
    "    r=\"\"\n",
    "    while n>0:\n",
    "        r+=str(n%2)\n",
    "        n//=2\n",
    "    return r[::-1]\n",
    "\n",
    "range_bit_count(2,7)"
   ]
  }
 ],
 "metadata": {
  "kernelspec": {
   "display_name": "Python 3",
   "language": "python",
   "name": "python3"
  },
  "language_info": {
   "codemirror_mode": {
    "name": "ipython",
    "version": 3
   },
   "file_extension": ".py",
   "mimetype": "text/x-python",
   "name": "python",
   "nbconvert_exporter": "python",
   "pygments_lexer": "ipython3",
   "version": "3.7.1"
  }
 },
 "nbformat": 4,
 "nbformat_minor": 2
}
