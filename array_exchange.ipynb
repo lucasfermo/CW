{
 "cells": [
  {
   "cell_type": "code",
   "execution_count": null,
   "metadata": {},
   "outputs": [],
   "source": []
  },
  {
   "cell_type": "code",
   "execution_count": 14,
   "metadata": {},
   "outputs": [
    {
     "data": {
      "text/plain": [
       "[3, 2, 1]"
      ]
     },
     "execution_count": 14,
     "metadata": {},
     "output_type": "execute_result"
    }
   ],
   "source": [
    "def exchange_with(a, b):\n",
    "    a1,b1=a.copy(),b.copy()\n",
    "    \n",
    "    for x in a1: a.pop()\n",
    "    for x in b1[::-1]: a.append(x)\n",
    "    for x in b1: b.pop()\n",
    "    for x in a1[::-1]: b.append(x)\n",
    "        \n",
    "    #a[i] = x for x in b[::-1]\n",
    "\n",
    "a=[1,2,3]\n",
    "b=list(\"abc\")\n",
    "\n",
    "exchange_with(a,b)\n",
    "b"
   ]
  },
  {
   "cell_type": "code",
   "execution_count": null,
   "metadata": {},
   "outputs": [],
   "source": []
  }
 ],
 "metadata": {
  "kernelspec": {
   "display_name": "Python 3",
   "language": "python",
   "name": "python3"
  },
  "language_info": {
   "codemirror_mode": {
    "name": "ipython",
    "version": 3
   },
   "file_extension": ".py",
   "mimetype": "text/x-python",
   "name": "python",
   "nbconvert_exporter": "python",
   "pygments_lexer": "ipython3",
   "version": "3.7.1"
  }
 },
 "nbformat": 4,
 "nbformat_minor": 2
}
