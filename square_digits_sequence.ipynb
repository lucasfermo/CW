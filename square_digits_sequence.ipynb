{
 "cells": [
  {
   "cell_type": "code",
   "execution_count": 1,
   "metadata": {},
   "outputs": [],
   "source": []
  },
  {
   "cell_type": "code",
   "execution_count": 25,
   "metadata": {},
   "outputs": [
    {
     "name": "stdout",
     "output_type": "stream",
     "text": [
      "(10, [103, 103])\n",
      "(1, [103, 103, 10])\n",
      "(1, [103, 103, 10, 1])\n"
     ]
    },
    {
     "data": {
      "text/plain": [
       "4"
      ]
     },
     "execution_count": 25,
     "metadata": {},
     "output_type": "execute_result"
    }
   ],
   "source": [
    "#Consider a sequence of numbers a0, a1, ..., an, in which an element is equal to the\n",
    "#sum of squared digits of the previous element. The sequence ends once an element that\n",
    "#has already been in the sequence appears again.\n",
    "\n",
    "#Given the first element a0, find the length of the sequence.\n",
    "\n",
    "\n",
    "def square_digits_sequence(n):\n",
    "    t=[n]\n",
    "    m=n\n",
    "    while (m not in t) or len(t)==1:\n",
    "        t.append(m)\n",
    "        m=sum([int(x)**2 for x in str(m)])\n",
    "    return len(t)\n",
    "\n",
    "square_digits_sequence(103)    "
   ]
  }
 ],
 "metadata": {
  "kernelspec": {
   "display_name": "Python 3",
   "language": "python",
   "name": "python3"
  },
  "language_info": {
   "codemirror_mode": {
    "name": "ipython",
    "version": 3
   },
   "file_extension": ".py",
   "mimetype": "text/x-python",
   "name": "python",
   "nbconvert_exporter": "python",
   "pygments_lexer": "ipython3",
   "version": "3.7.1"
  }
 },
 "nbformat": 4,
 "nbformat_minor": 2
}
