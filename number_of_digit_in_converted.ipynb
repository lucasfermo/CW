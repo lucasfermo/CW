{
 "cells": [
  {
   "cell_type": "code",
   "execution_count": 3,
   "metadata": {},
   "outputs": [],
   "source": [
    "import math"
   ]
  },
  {
   "cell_type": "code",
   "execution_count": 176,
   "metadata": {},
   "outputs": [
    {
     "name": "stdout",
     "output_type": "stream",
     "text": [
      "36\n"
     ]
    },
    {
     "data": {
      "text/plain": [
       "2"
      ]
     },
     "execution_count": 176,
     "metadata": {},
     "output_type": "execute_result"
    }
   ],
   "source": [
    "#You have a number x in base m (xm). Count the number of digits d after converting xm to base n.\n",
    "\n",
    "def count_digit(number, digit, base=10, from_base=10):\n",
    "    s=\"0123456789abcdefghijklmnopqrstuvwxyz\"\n",
    "    num=sum([from_base**i * s.find(x) for i,x in enumerate(number[::-1])])\n",
    "    temp=''\n",
    "    \n",
    "    while num>0:\n",
    "        temp+=s[num%base]\n",
    "        num=num//base\n",
    "    return sum([1 if x == digit else 0 for x in temp])\n",
    "    \n",
    "count_digit(\"133\",'3')\n",
    "\n",
    "\n",
    "    "
   ]
  }
 ],
 "metadata": {
  "kernelspec": {
   "display_name": "Python 3",
   "language": "python",
   "name": "python3"
  },
  "language_info": {
   "codemirror_mode": {
    "name": "ipython",
    "version": 3
   },
   "file_extension": ".py",
   "mimetype": "text/x-python",
   "name": "python",
   "nbconvert_exporter": "python",
   "pygments_lexer": "ipython3",
   "version": "3.7.1"
  }
 },
 "nbformat": 4,
 "nbformat_minor": 2
}
