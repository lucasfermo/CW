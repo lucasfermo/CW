{
 "cells": [
  {
   "cell_type": "code",
   "execution_count": 1,
   "metadata": {},
   "outputs": [],
   "source": []
  },
  {
   "cell_type": "code",
   "execution_count": 127,
   "metadata": {},
   "outputs": [
    {
     "data": {
      "text/plain": [
       "' */n***/n */n'"
      ]
     },
     "execution_count": 127,
     "metadata": {},
     "output_type": "execute_result"
    }
   ],
   "source": [
    "#You need to return a string that looks like a diamond shape when printed on the screen, using asterisk (*) \n",
    "#characters. Trailing spaces should be removed, and every line must be terminated with a newline character (\\n).\n",
    "\n",
    "def diamond(n):\n",
    "    if not  n%2 or n<1: return None\n",
    "    d=[\" \" * ((n-i)//2) + \"*\" * (i+1) + \"\\n\"  for i in range(n) if not i%2]\n",
    "    d+=d[:-1][::-1]\n",
    "    return \"\".join(d)\n",
    "    \n",
    "diamond(3)"
   ]
  }
 ],
 "metadata": {
  "kernelspec": {
   "display_name": "Python 3",
   "language": "python",
   "name": "python3"
  },
  "language_info": {
   "codemirror_mode": {
    "name": "ipython",
    "version": 3
   },
   "file_extension": ".py",
   "mimetype": "text/x-python",
   "name": "python",
   "nbconvert_exporter": "python",
   "pygments_lexer": "ipython3",
   "version": "3.7.1"
  }
 },
 "nbformat": 4,
 "nbformat_minor": 2
}
