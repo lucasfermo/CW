{
 "cells": [
  {
   "cell_type": "code",
   "execution_count": null,
   "metadata": {},
   "outputs": [],
   "source": []
  },
  {
   "cell_type": "code",
   "execution_count": 97,
   "metadata": {},
   "outputs": [
    {
     "data": {
      "text/plain": [
       "9"
      ]
     },
     "execution_count": 97,
     "metadata": {},
     "output_type": "execute_result"
    }
   ],
   "source": [
    "#In other words we must find x such as n choose x = m (1) for a given m and a given n;\n",
    "#m >= 0 and n > 0. If many x are solutions give as result the smallest x. It can happen\n",
    "#that when m is given at random there are no x satisfying equation (1) then return -1.\n",
    "\n",
    "def checkchoose(m, n):\n",
    "    if m==1: return 0\n",
    "    for i in range(1,n):\n",
    "        temp=combo(n,i)\n",
    "        if temp==m:\n",
    "            return i\n",
    "    return -1\n",
    "    \n",
    "def factorial(x):\n",
    "    if x>1:\n",
    "        return x * factorial(x-1)\n",
    "    return x\n",
    "\n",
    "def combo(n,x):\n",
    "    return int(factorial(n)/(factorial(x)*factorial(n-x)))\n",
    "\n",
    "checkchoose(11110584286373380832,908)"
   ]
  }
 ],
 "metadata": {
  "kernelspec": {
   "display_name": "Python 3",
   "language": "python",
   "name": "python3"
  },
  "language_info": {
   "codemirror_mode": {
    "name": "ipython",
    "version": 3
   },
   "file_extension": ".py",
   "mimetype": "text/x-python",
   "name": "python",
   "nbconvert_exporter": "python",
   "pygments_lexer": "ipython3",
   "version": "3.7.1"
  }
 },
 "nbformat": 4,
 "nbformat_minor": 2
}
