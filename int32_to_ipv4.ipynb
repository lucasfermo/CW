{
 "cells": [
  {
   "cell_type": "code",
   "execution_count": 1,
   "metadata": {},
   "outputs": [],
   "source": []
  },
  {
   "cell_type": "code",
   "execution_count": 34,
   "metadata": {},
   "outputs": [
    {
     "data": {
      "text/plain": [
       "['10000000', '00100000', '00001010', '00000001']"
      ]
     },
     "execution_count": 34,
     "metadata": {},
     "output_type": "execute_result"
    }
   ],
   "source": [
    "def int32_to_ip(int32):\n",
    "    b=to_bin(int32)\n",
    "    r=[b[i:i+8] for i in range(0,len(b),8)]\n",
    "    ip=\".\".[str(to_int(x)) for x in r ]\n",
    "\n",
    "    return r\n",
    "\n",
    "def to_int(b):\n",
    "    r=sum([int(v)*(2**i) for i,v in enumerate(b[::-1]) ])\n",
    "    return r\n",
    "    \n",
    "\n",
    "def to_bin_32(n):\n",
    "    r=\"\"\n",
    "    while n>0:\n",
    "        r+=str(n%2)\n",
    "        n//=2\n",
    "    r=r[::-1]\n",
    "    while len(r)<32:\n",
    "        r=\"0\"+r\n",
    "    \n",
    "    return r\n",
    "\n",
    "n=2149583361\n",
    "to_bin(2149583361)\n",
    "int32_to_ip(n)"
   ]
  }
 ],
 "metadata": {
  "kernelspec": {
   "display_name": "Python 3",
   "language": "python",
   "name": "python3"
  },
  "language_info": {
   "codemirror_mode": {
    "name": "ipython",
    "version": 3
   },
   "file_extension": ".py",
   "mimetype": "text/x-python",
   "name": "python",
   "nbconvert_exporter": "python",
   "pygments_lexer": "ipython3",
   "version": "3.7.1"
  }
 },
 "nbformat": 4,
 "nbformat_minor": 2
}
