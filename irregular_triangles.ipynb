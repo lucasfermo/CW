{
 "cells": [
  {
   "cell_type": "code",
   "execution_count": null,
   "metadata": {},
   "outputs": [],
   "source": []
  },
  {
   "cell_type": "code",
   "execution_count": 132,
   "metadata": {},
   "outputs": [
    {
     "data": {
      "text/plain": [
       "45"
      ]
     },
     "execution_count": 132,
     "metadata": {},
     "output_type": "execute_result"
    }
   ],
   "source": [
    "def num_blocks(w, l, h):\n",
    "    if not h:\n",
    "        return 0\n",
    "    base=abs(w-l)+1\n",
    "    m=min(w,l)\n",
    "    t=m+h-1\n",
    "    return (base*sum_until(t)) + 2*sum_until(t-1) + 2*(t)  - small_blocks(w-m+1,l-m+1,m-1)\n",
    "\n",
    "def small_blocks(w,l,h):\n",
    "    base=abs(w-l)+1\n",
    "    m=min(w,l)\n",
    "    t=m+h-1\n",
    "    return (base*sum_until(t)) + 2*sum_until(t-1) + 2*(t) \n",
    "\n",
    "num_blocks(2,4,3)"
   ]
  },
  {
   "cell_type": "code",
   "execution_count": 120,
   "metadata": {},
   "outputs": [
    {
     "name": "stdout",
     "output_type": "stream",
     "text": [
      "27\n",
      "4\n"
     ]
    },
    {
     "data": {
      "text/plain": [
       "41"
      ]
     },
     "execution_count": 120,
     "metadata": {},
     "output_type": "execute_result"
    }
   ],
   "source": [
    "\n",
    "def num_blocks(w, l, h):\n",
    "    base=abs(w-l)+1\n",
    "    m=min(w,l)\n",
    "    t=m+h-1\n",
    "    d=base-1\n",
    "    return (base*sum_until(t,m)) + 2**(t-1) + 2*(t-1)\n",
    "\n",
    "    2*(2**0 + 2*0)\n",
    "\n",
    "def sum_until(x,s=0):\n",
    "    if x==s:\n",
    "        return s \n",
    "\n",
    "    return x+sum_until(x-1,s)\n",
    "\n",
    "num_blocks(2,4,3)"
   ]
  },
  {
   "cell_type": "code",
   "execution_count": null,
   "metadata": {},
   "outputs": [],
   "source": []
  }
 ],
 "metadata": {
  "kernelspec": {
   "display_name": "Python 3",
   "language": "python",
   "name": "python3"
  },
  "language_info": {
   "codemirror_mode": {
    "name": "ipython",
    "version": 3
   },
   "file_extension": ".py",
   "mimetype": "text/x-python",
   "name": "python",
   "nbconvert_exporter": "python",
   "pygments_lexer": "ipython3",
   "version": "3.7.1"
  }
 },
 "nbformat": 4,
 "nbformat_minor": 2
}
