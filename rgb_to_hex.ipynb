{
 "cells": [
  {
   "cell_type": "code",
   "execution_count": 1,
   "metadata": {},
   "outputs": [],
   "source": []
  },
  {
   "cell_type": "code",
   "execution_count": 370,
   "metadata": {},
   "outputs": [
    {
     "data": {
      "text/plain": [
       "'010203'"
      ]
     },
     "execution_count": 370,
     "metadata": {},
     "output_type": "execute_result"
    }
   ],
   "source": [
    "#The rgb() method is incomplete. Complete the method so that passing in RGB decimal values\n",
    "#will result in a hexadecimal representation being returned. The valid decimal values for RGB\n",
    "#are 0 - 255. Any (r,g,b) argument values that fall out of that range should be rounded to the\n",
    "#closest valid value.\n",
    "\n",
    "def rgb(r, g, b):\n",
    "    r,g,b=min(r,255),min(g,255),min(b,255)\n",
    "    return \"{}{}{}\".format(convert(r,16),convert(g,16),convert(b,16))\n",
    "\n",
    "def convert(num,mod):\n",
    "    characterString=\"0123456789ABCDEF\"\n",
    "    returnString=\"\"\n",
    "    while num>0:\n",
    "        returnString+=characterString[num%mod]\n",
    "        num=num//mod\n",
    "    returnString = returnString +  \"0\" * (2-len(returnString))\n",
    "    return returnString[::-1]\n",
    "\n",
    "rgb(1,2,3)"
   ]
  }
 ],
 "metadata": {
  "kernelspec": {
   "display_name": "Python 3",
   "language": "python",
   "name": "python3"
  },
  "language_info": {
   "codemirror_mode": {
    "name": "ipython",
    "version": 3
   },
   "file_extension": ".py",
   "mimetype": "text/x-python",
   "name": "python",
   "nbconvert_exporter": "python",
   "pygments_lexer": "ipython3",
   "version": "3.7.1"
  }
 },
 "nbformat": 4,
 "nbformat_minor": 2
}
