{
 "cells": [
  {
   "cell_type": "code",
   "execution_count": 1,
   "metadata": {},
   "outputs": [],
   "source": []
  },
  {
   "cell_type": "code",
   "execution_count": 92,
   "metadata": {},
   "outputs": [
    {
     "data": {
      "text/plain": [
       "[1, 3, 2, 8, 5, 4]"
      ]
     },
     "execution_count": 92,
     "metadata": {},
     "output_type": "execute_result"
    }
   ],
   "source": [
    "#Your task is to sort ascending odd numbers but even numbers must be on their places.\n",
    "\n",
    "def sort_array(source_array):\n",
    "    even=[(x,i) for i,x in enumerate(source_array) if not x%2]\n",
    "    a=sorted([x for x in source_array if x%2])\n",
    "    for v in even:\n",
    "        a.insert(v[1],v[0])\n",
    "    return a\n",
    "        \n",
    "    \n",
    "    \n",
    "sort_array([5, 3, 2, 8, 1, 4])"
   ]
  }
 ],
 "metadata": {
  "kernelspec": {
   "display_name": "Python 3",
   "language": "python",
   "name": "python3"
  },
  "language_info": {
   "codemirror_mode": {
    "name": "ipython",
    "version": 3
   },
   "file_extension": ".py",
   "mimetype": "text/x-python",
   "name": "python",
   "nbconvert_exporter": "python",
   "pygments_lexer": "ipython3",
   "version": "3.7.1"
  }
 },
 "nbformat": 4,
 "nbformat_minor": 2
}
