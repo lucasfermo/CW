{
 "cells": [
  {
   "cell_type": "code",
   "execution_count": null,
   "metadata": {},
   "outputs": [],
   "source": []
  },
  {
   "cell_type": "code",
   "execution_count": 82,
   "metadata": {},
   "outputs": [
    {
     "data": {
      "text/plain": [
       "7"
      ]
     },
     "execution_count": 82,
     "metadata": {},
     "output_type": "execute_result"
    }
   ],
   "source": [
    "#Write a function max_ball with parameter v (in km per hour) \n",
    "#that returns the time in tenth of second of the maximum height recorded by the device.\n",
    "\n",
    "def max_ball(v0):\n",
    "    v0=v0/3.6\n",
    "    g=9.81\n",
    "    rMax,tMax,r,t=0,0,0,0\n",
    "    while r>-1:\n",
    "        t+=1\n",
    "        s=t/10\n",
    "        r=((v0*s) - (0.5*g*s*s))\n",
    "        if r>rMax:\n",
    "            rMax=r\n",
    "            tMax=t\n",
    "            \n",
    "            \n",
    "    return tMax\n",
    "        \n",
    "max_ball(25)"
   ]
  },
  {
   "cell_type": "code",
   "execution_count": null,
   "metadata": {},
   "outputs": [],
   "source": [
    "0.5*m*v**2\n",
    "\n",
    "mu*m*g*d1"
   ]
  }
 ],
 "metadata": {
  "kernelspec": {
   "display_name": "Python 3",
   "language": "python",
   "name": "python3"
  },
  "language_info": {
   "codemirror_mode": {
    "name": "ipython",
    "version": 3
   },
   "file_extension": ".py",
   "mimetype": "text/x-python",
   "name": "python",
   "nbconvert_exporter": "python",
   "pygments_lexer": "ipython3",
   "version": "3.7.1"
  }
 },
 "nbformat": 4,
 "nbformat_minor": 2
}
