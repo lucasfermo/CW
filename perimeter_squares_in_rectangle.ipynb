{
 "cells": [
  {
   "cell_type": "code",
   "execution_count": 201,
   "metadata": {},
   "outputs": [],
   "source": []
  },
  {
   "cell_type": "code",
   "execution_count": 136,
   "metadata": {},
   "outputs": [
    {
     "data": {
      "text/plain": [
       "216"
      ]
     },
     "execution_count": 136,
     "metadata": {},
     "output_type": "execute_result"
    }
   ],
   "source": [
    "#Give the sum of the perimeters of all the squares in a rectangle when there are n + 1 squares\n",
    "\n",
    "def perimeter(n):\n",
    "    return sum(4*fib(n))\n",
    "\n",
    "def fib(n):\n",
    "    l=[1]\n",
    "    for i in range(n):\n",
    "        if len(l)<2:\n",
    "            l.append(l[0])\n",
    "        else:\n",
    "            l.append(sum(l[-2:]))\n",
    "    return l\n",
    "\n",
    "perimeter(7)"
   ]
  }
 ],
 "metadata": {
  "kernelspec": {
   "display_name": "Python 3",
   "language": "python",
   "name": "python3"
  },
  "language_info": {
   "codemirror_mode": {
    "name": "ipython",
    "version": 3
   },
   "file_extension": ".py",
   "mimetype": "text/x-python",
   "name": "python",
   "nbconvert_exporter": "python",
   "pygments_lexer": "ipython3",
   "version": "3.7.1"
  }
 },
 "nbformat": 4,
 "nbformat_minor": 2
}
