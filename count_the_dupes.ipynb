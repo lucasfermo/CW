{
 "cells": [
  {
   "cell_type": "code",
   "execution_count": 1,
   "metadata": {},
   "outputs": [],
   "source": []
  },
  {
   "cell_type": "code",
   "execution_count": 20,
   "metadata": {},
   "outputs": [
    {
     "data": {
      "text/plain": [
       "1"
      ]
     },
     "execution_count": 20,
     "metadata": {},
     "output_type": "execute_result"
    }
   ],
   "source": [
    "#Write a function that will return the count of distinct case-insensitive alphabetic \n",
    "#characters and numeric digits that occur more than once in the input string\n",
    "\n",
    "def duplicate_count(text):\n",
    "    text=text.upper()\n",
    "    d={}\n",
    "    for v in text:\n",
    "        if v not in d.keys():\n",
    "            d[v]=1\n",
    "        else:\n",
    "            d[v]+=1\n",
    "    return sum([1 for k in d.keys() if d[k]>1])\n",
    "\n",
    "duplicate_count('lucasll')\n",
    "    "
   ]
  }
 ],
 "metadata": {
  "kernelspec": {
   "display_name": "Python 3",
   "language": "python",
   "name": "python3"
  },
  "language_info": {
   "codemirror_mode": {
    "name": "ipython",
    "version": 3
   },
   "file_extension": ".py",
   "mimetype": "text/x-python",
   "name": "python",
   "nbconvert_exporter": "python",
   "pygments_lexer": "ipython3",
   "version": "3.7.1"
  }
 },
 "nbformat": 4,
 "nbformat_minor": 2
}
