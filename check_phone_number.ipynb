{
 "cells": [
  {
   "cell_type": "code",
   "execution_count": 1,
   "metadata": {},
   "outputs": [],
   "source": []
  },
  {
   "cell_type": "code",
   "execution_count": 16,
   "metadata": {},
   "outputs": [
    {
     "data": {
      "text/plain": [
       "True"
      ]
     },
     "execution_count": 16,
     "metadata": {},
     "output_type": "execute_result"
    }
   ],
   "source": [
    "#Write a function that accepts a string, and returns true if it is in the form of a phone number. \n",
    "\n",
    "def validPhoneNumber(phoneNumber):\n",
    "    s=[x for x in phoneNumber if x in \"0123456789\"]\n",
    "    if len(s) != 10: return False\n",
    "    return \"({}{}{}) {}{}{}-{}{}{}{}\".format(*s) == phoneNumber\n",
    "\n",
    "\n",
    "phoneNumber=\"(123) 456-7890\"\n",
    "validPhoneNumber(phoneNumber)"
   ]
  }
 ],
 "metadata": {
  "kernelspec": {
   "display_name": "Python 3",
   "language": "python",
   "name": "python3"
  },
  "language_info": {
   "codemirror_mode": {
    "name": "ipython",
    "version": 3
   },
   "file_extension": ".py",
   "mimetype": "text/x-python",
   "name": "python",
   "nbconvert_exporter": "python",
   "pygments_lexer": "ipython3",
   "version": "3.7.1"
  }
 },
 "nbformat": 4,
 "nbformat_minor": 2
}
