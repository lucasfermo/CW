{
 "cells": [
  {
   "cell_type": "code",
   "execution_count": null,
   "metadata": {},
   "outputs": [],
   "source": []
  },
  {
   "cell_type": "code",
   "execution_count": 33,
   "metadata": {},
   "outputs": [
    {
     "data": {
      "text/plain": [
       "'2^3 * 3 * 5'"
      ]
     },
     "execution_count": 33,
     "metadata": {},
     "output_type": "execute_result"
    }
   ],
   "source": [
    "def decomp(n):\n",
    "    f=factorial(n)\n",
    "    f1=f\n",
    "    r=\"\"\n",
    "    l=[]\n",
    "    primes=[x for x in prime_generator(n)]\n",
    "    while f>1:\n",
    "        for p in primes:\n",
    "            i=1\n",
    "            while f%p**i ==0:\n",
    "                i=i+1\n",
    "            f=f//(p**(i-1))\n",
    "            l.append([p,i-1])\n",
    "    l=l[::-1]\n",
    "    return \" * \".join([str(x[0]) + \"^\" + str(x[1]) if x[1]>1 else str(x[0]) for x in l ])\n",
    "        \n",
    "        \n",
    "        \n",
    "def prime_generator(n):\n",
    "    for i in range(n,1,-1):\n",
    "        prime=True\n",
    "        for j in range(i//2,1,-1):\n",
    "            if i%j == 0:\n",
    "                prime=False\n",
    "        if prime:\n",
    "            yield i\n",
    "            \n",
    "def factorial(n):\n",
    "    if n>1:\n",
    "        return n* factorial(n-1)\n",
    "    return 1\n",
    "\n",
    "            \n",
    "    \n",
    "decomp(5)"
   ]
  },
  {
   "cell_type": "code",
   "execution_count": null,
   "metadata": {},
   "outputs": [],
   "source": []
  }
 ],
 "metadata": {
  "kernelspec": {
   "display_name": "Python 3",
   "language": "python",
   "name": "python3"
  },
  "language_info": {
   "codemirror_mode": {
    "name": "ipython",
    "version": 3
   },
   "file_extension": ".py",
   "mimetype": "text/x-python",
   "name": "python",
   "nbconvert_exporter": "python",
   "pygments_lexer": "ipython3",
   "version": "3.7.1"
  }
 },
 "nbformat": 4,
 "nbformat_minor": 2
}
