{
 "cells": [
  {
   "cell_type": "code",
   "execution_count": null,
   "metadata": {},
   "outputs": [],
   "source": []
  },
  {
   "cell_type": "code",
   "execution_count": 31,
   "metadata": {},
   "outputs": [
    {
     "data": {
      "text/plain": [
       "25"
      ]
     },
     "execution_count": 31,
     "metadata": {},
     "output_type": "execute_result"
    }
   ],
   "source": [
    "def pack_bagpack(scores, weights, capacity):\n",
    "    scoreToWeight=sorted([(scores[i]/weights[i],i) for i in range(len(scores))])[::-1]\n",
    "    stw=sorted([(scores[i],weights[i],i) for i in range(len(scores))])[::-1]\n",
    "    cap=0\n",
    "    finalScore=0\n",
    "    scores=sorted(scores)[::-1]\n",
    "    c=0\n",
    "    while cap<=capacity:\n",
    "        if cap+stw[c][1]>capacity:\n",
    "            break\n",
    "        finalScore+=stw[c][0]\n",
    "        cap+=stw[c][1]\n",
    "        c=c+1\n",
    "\n",
    "    return finalScore\n",
    "                \n",
    "                \n",
    "    \n",
    "    \n",
    "pack_bagpack([15, 10, 9, 5], [1, 5, 3, 4], 8)\n",
    "    \n",
    "    "
   ]
  }
 ],
 "metadata": {
  "kernelspec": {
   "display_name": "Python 3",
   "language": "python",
   "name": "python3"
  }
 },
 "nbformat": 4,
 "nbformat_minor": 2
}
