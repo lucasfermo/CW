{
 "cells": [
  {
   "cell_type": "code",
   "execution_count": 1,
   "metadata": {},
   "outputs": [],
   "source": []
  },
  {
   "cell_type": "code",
   "execution_count": 294,
   "metadata": {},
   "outputs": [
    {
     "data": {
      "text/plain": [
       "'BbEehHilloTy'"
      ]
     },
     "execution_count": 294,
     "metadata": {},
     "output_type": "execute_result"
    }
   ],
   "source": [
    "#Re-order the characters of a string, so that they are concatenated into a new string in\n",
    "#\"case-insensitively-alphabetical-order-of-appearance\" order. Whitespace and punctuation shall \n",
    "#simply be removed!\n",
    "\n",
    "def alphabetized(s):\n",
    "    s=[x for x in s if x.isalpha()]\n",
    "    z=sorted(list(zip([(ord(x)-96)%32 for x in s],[i for i in range(len(s))],s)))\n",
    "    return \"\".join([x[2] for x in z])\n",
    "\n",
    "alphabetized(\"ThE Holy Bible\")\n"
   ]
  }
 ],
 "metadata": {
  "kernelspec": {
   "display_name": "Python 3",
   "language": "python",
   "name": "python3"
  },
  "language_info": {
   "codemirror_mode": {
    "name": "ipython",
    "version": 3
   },
   "file_extension": ".py",
   "mimetype": "text/x-python",
   "name": "python",
   "nbconvert_exporter": "python",
   "pygments_lexer": "ipython3",
   "version": "3.7.1"
  }
 },
 "nbformat": 4,
 "nbformat_minor": 2
}
