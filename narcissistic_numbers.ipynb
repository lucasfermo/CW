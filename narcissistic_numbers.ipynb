{
 "cells": [
  {
   "cell_type": "code",
   "execution_count": 1,
   "metadata": {},
   "outputs": [],
   "source": []
  },
  {
   "cell_type": "code",
   "execution_count": 324,
   "metadata": {},
   "outputs": [
    {
     "data": {
      "text/plain": [
       "153"
      ]
     },
     "execution_count": 324,
     "metadata": {},
     "output_type": "execute_result"
    }
   ],
   "source": [
    "#A Narcissistic Number is a number which is the sum of its own digits, each raised to the\n",
    "#power of the number of digits in a given base. In this Kata, we will restrict ourselves to\n",
    "#decimal (base 10).\n",
    "\n",
    "\n",
    "def narcissistic( value ):\n",
    "    s=[int(x) for x in str(value)]\n",
    "    r=sum([x**len(s) for x in s ])\n",
    "    return r==value\n",
    "    \n",
    "    \n",
    "narcissistic(153)"
   ]
  }
 ],
 "metadata": {
  "kernelspec": {
   "display_name": "Python 3",
   "language": "python",
   "name": "python3"
  },
  "language_info": {
   "codemirror_mode": {
    "name": "ipython",
    "version": 3
   },
   "file_extension": ".py",
   "mimetype": "text/x-python",
   "name": "python",
   "nbconvert_exporter": "python",
   "pygments_lexer": "ipython3",
   "version": "3.7.1"
  }
 },
 "nbformat": 4,
 "nbformat_minor": 2
}
