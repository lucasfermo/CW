{
 "cells": [
  {
   "cell_type": "code",
   "execution_count": null,
   "metadata": {},
   "outputs": [],
   "source": []
  },
  {
   "cell_type": "code",
   "execution_count": 103,
   "metadata": {},
   "outputs": [
    {
     "name": "stdout",
     "output_type": "stream",
     "text": [
      "['a', 'b', 'a', 'b', 'a', 'b']\n",
      "['ab', 'ab', 'ab']\n"
     ]
    },
    {
     "data": {
      "text/plain": [
       "True"
      ]
     },
     "execution_count": 103,
     "metadata": {},
     "output_type": "execute_result"
    }
   ],
   "source": [
    "def has_subpattern(string):\n",
    "    length=len(string)\n",
    "    if length<2: return False\n",
    "    \n",
    "    split=[]\n",
    "    \n",
    "    for i in range(1,length):\n",
    "        if not length%i: split.append(i)\n",
    "        \n",
    "    for c in split:\n",
    "        subString=[string[c*i:c*i+c] for i,v in enumerate(range(0,len(string),c))]\n",
    "        print(subString)\n",
    "        if len(set(subString)) == 1: return True\n",
    "    \n",
    "    return False\n",
    "    \n",
    "has_subpattern(\"ababab\")\n",
    "    "
   ]
  }
 ],
 "metadata": {
  "kernelspec": {
   "display_name": "Python 3",
   "language": "python",
   "name": "python3"
  },
  "language_info": {
   "codemirror_mode": {
    "name": "ipython",
    "version": 3
   },
   "file_extension": ".py",
   "mimetype": "text/x-python",
   "name": "python",
   "nbconvert_exporter": "python",
   "pygments_lexer": "ipython3",
   "version": "3.7.1"
  }
 },
 "nbformat": 4,
 "nbformat_minor": 2
}
