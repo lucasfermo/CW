{
 "cells": [
  {
   "cell_type": "code",
   "execution_count": 1,
   "metadata": {
    "collapsed": true
   },
   "outputs": [],
   "source": [
    "import math,os"
   ]
  },
  {
   "cell_type": "code",
   "execution_count": 80,
   "metadata": {},
   "outputs": [
    {
     "data": {
      "text/plain": [
       "'Buy: 0 Sell: 160219; Badly formed 2: CAP 3264 21 S ;MY SPACE 1676.12 29.922 C ;'"
      ]
     },
     "execution_count": 80,
     "metadata": {},
     "output_type": "execute_result"
    }
   ],
   "source": [
    "def balance_statement(lst):\n",
    "    order=lst.split(\", \")\n",
    "    buyTotal,sellTotal=0,0\n",
    "    errors=\"\"\n",
    "    numErrors=0\n",
    "    for i in order:\n",
    "        try:\n",
    "            if \".\" not in i.split(\" \")[2] or len(i.split(\" \")) !=4 or \".\" in i.split(\" \")[1]:\n",
    "                errors+=i+\" ;\"\n",
    "                numErrors+=1\n",
    "            buyTemp=int(i.split(\" \")[1])*float(i .split(\" \")[2]) if i.split(\" \")[3]==\"B\" else 0\n",
    "            sellTemp=int(i.split(\" \")[1])*float(i.split(\" \")[2]) if i.split(\" \")[3]==\"S\" else 0\n",
    "            buyTotal+=buyTemp\n",
    "            sellTotal+=sellTemp\n",
    "        except:\n",
    "            continue\n",
    "    final=\"Buy: \"+str(int(round(buyTotal,0)))+ \" Sell: \"+str(int(round(sellTotal,0)))\n",
    "    if not numErrors:\n",
    "        return final\n",
    "    else: \n",
    "        return final + \"; Badly formed \"+str(numErrors)+\": \" +errors\n",
    "    \n",
    "test=\"CAP 3264 21 S, CLH16.NYM 1749 91.606 S, MY SPACE 1676.12 29.922 C\"\n",
    "balance_statement(test)"
   ]
  },
  {
   "cell_type": "code",
   "execution_count": 71,
   "metadata": {},
   "outputs": [
    {
     "data": {
      "text/plain": [
       "162863"
      ]
     },
     "execution_count": 71,
     "metadata": {},
     "output_type": "execute_result"
    }
   ],
   "source": [
    "1679*97"
   ]
  },
  {
   "cell_type": "code",
   "execution_count": 233,
   "metadata": {},
   "outputs": [
    {
     "data": {
      "text/plain": [
       "'olleh'"
      ]
     },
     "execution_count": 233,
     "metadata": {},
     "output_type": "execute_result"
    }
   ],
   "source": [
    "'Buy: 175358 Sell: 0; Badly formed 3: BoAML 4962 13 B ;JPMC 984.3 64 P ;JPMC 3394 88 B ;'"
   ]
  }
 ],
 "metadata": {
  "kernelspec": {
   "display_name": "Python 3",
   "language": "python",
   "name": "python3"
  },
  "language_info": {
   "codemirror_mode": {
    "name": "ipython",
    "version": 3
   },
   "file_extension": ".py",
   "mimetype": "text/x-python",
   "name": "python",
   "nbconvert_exporter": "python",
   "pygments_lexer": "ipython3",
   "version": "3.6.1"
  }
 },
 "nbformat": 4,
 "nbformat_minor": 2
}
