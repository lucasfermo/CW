{
 "cells": [
  {
   "cell_type": "code",
   "execution_count": 1,
   "metadata": {},
   "outputs": [],
   "source": []
  },
  {
   "cell_type": "code",
   "execution_count": 224,
   "metadata": {},
   "outputs": [
    {
     "data": {
      "text/plain": [
       "[('az', 'toto picaro zone kiwi'),\n",
       " ('az toto', 'picaro zone kiwi'),\n",
       " ('az toto picaro', 'zone kiwi'),\n",
       " ('az toto picaro zone', 'kiwi')]"
      ]
     },
     "execution_count": 224,
     "metadata": {},
     "output_type": "execute_result"
    }
   ],
   "source": [
    "#Write a function partlist that gives all the ways to divide a list (an array)\n",
    "#of at least two elements into two non-empty parts.\n",
    "\n",
    "def partlist(arr):\n",
    "    return [(\" \".join([x for x in arr[:min(i2+1,len(arr)-1)] ]), \n",
    "             \" \".join([x for x in arr[min(i2+1,len(arr)-1):]])) for\n",
    "            i2, y in enumerate(arr[:-1])]\n",
    "    \n",
    "partlist([\"az\", \"toto\", \"picaro\", \"zone\", \"kiwi\"])"
   ]
  }
 ],
 "metadata": {
  "kernelspec": {
   "display_name": "Python 3",
   "language": "python",
   "name": "python3"
  },
  "language_info": {
   "codemirror_mode": {
    "name": "ipython",
    "version": 3
   },
   "file_extension": ".py",
   "mimetype": "text/x-python",
   "name": "python",
   "nbconvert_exporter": "python",
   "pygments_lexer": "ipython3",
   "version": "3.7.1"
  }
 },
 "nbformat": 4,
 "nbformat_minor": 2
}
