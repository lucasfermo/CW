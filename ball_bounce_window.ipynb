{
 "cells": [
  {
   "cell_type": "code",
   "execution_count": null,
   "metadata": {},
   "outputs": [],
   "source": []
  },
  {
   "cell_type": "code",
   "execution_count": 11,
   "metadata": {},
   "outputs": [
    {
     "data": {
      "text/plain": [
       "-1"
      ]
     },
     "execution_count": 11,
     "metadata": {},
     "output_type": "execute_result"
    }
   ],
   "source": [
    "#A child is playing with a ball on the nth floor of a tall building. The height of this\n",
    "#floor, h, is known.\n",
    "\n",
    "#He drops the ball out of the window. The ball bounces (for example), to two-thirds of \n",
    "#its height (a bounce of 0.66).\n",
    "\n",
    "#His mother looks out of a window 1.5 meters from the ground.\n",
    "\n",
    "#How many times will the mother see the ball pass in front of her window (including when\n",
    "#it's falling and bouncing?\n",
    "\n",
    "\n",
    "\n",
    "def bouncingBall(h, bounce, window):\n",
    "    r=1\n",
    "    if h<=window or h<=0 or (bounce<=0 or bounce>=1):\n",
    "        return -1\n",
    "    while h>=window:\n",
    "        h*=bounce\n",
    "        if h>=window:\n",
    "            r+=2\n",
    "    return r\n",
    "    \n",
    "    \n",
    "    \n",
    "bouncingBall(3, 0, 1.5)"
   ]
  },
  {
   "cell_type": "code",
   "execution_count": 3,
   "metadata": {},
   "outputs": [
    {
     "data": {
      "text/plain": [
       "97"
      ]
     },
     "execution_count": 3,
     "metadata": {},
     "output_type": "execute_result"
    }
   ],
   "source": []
  }
 ],
 "metadata": {
  "kernelspec": {
   "display_name": "Python 3",
   "language": "python",
   "name": "python3"
  },
  "language_info": {
   "codemirror_mode": {
    "name": "ipython",
    "version": 3
   },
   "file_extension": ".py",
   "mimetype": "text/x-python",
   "name": "python",
   "nbconvert_exporter": "python",
   "pygments_lexer": "ipython3",
   "version": "3.7.1"
  }
 },
 "nbformat": 4,
 "nbformat_minor": 2
}
