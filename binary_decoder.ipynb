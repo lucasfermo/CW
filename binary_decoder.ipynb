{
 "cells": [
  {
   "cell_type": "code",
   "execution_count": null,
   "metadata": {},
   "outputs": [],
   "source": []
  },
  {
   "cell_type": "code",
   "execution_count": 61,
   "metadata": {},
   "outputs": [
    {
     "data": {
      "text/plain": [
       "'07'"
      ]
     },
     "execution_count": 61,
     "metadata": {},
     "output_type": "execute_result"
    }
   ],
   "source": [
    "#Coding process to code a number n expressed in base 10:\n",
    "\n",
    "#a) Let k be the number of bits of n\n",
    "#b) Put k-1 0 followed by a 1\n",
    "#c) Put number n in binary\n",
    "#d) Concat the result of b) and c)\n",
    "\n",
    "\n",
    "def code(strng):\n",
    "    s=[]\n",
    "    for i in strng:\n",
    "        b=to_binary(int(i))\n",
    "        a=\"0\"*(len(b)-1)+\"1\"\n",
    "        s.append(a+b)\n",
    "    return \"\".join(s)\n",
    "        \n",
    "def to_binary(n):\n",
    "    s=\"\"\n",
    "    if not n: return \"0\"\n",
    "    while n>0:\n",
    "        s+=str(n%2)\n",
    "        n//=2\n",
    "    return s[::-1]\n",
    "\n",
    "def to_dec(s):\n",
    "    n=0\n",
    "    for i,v in enumerate(s[::-1]):\n",
    "        n+=(int(v)*(2**i))\n",
    "    return str(n)\n",
    "    \n",
    "def decode(strng):\n",
    "    s=[]\n",
    "    filler=True\n",
    "    fillerCount=0\n",
    "    temp=\"\"\n",
    "    for i in strng:\n",
    "        if filler:fillerCount+=1\n",
    "        if not filler:\n",
    "            temp+=i\n",
    "            fillerCount-=1\n",
    "        if filler and int(i):\n",
    "            filler=False\n",
    "        if not fillerCount:\n",
    "            s.append(to_dec(temp))\n",
    "            temp=\"\"\n",
    "            filler=True\n",
    "    return \"\".join(s)\n",
    "        \n",
    "        \n",
    "\n",
    "code(\"07\")\n",
    "#to_binary(0)\n",
    "decode(\"10001111\")"
   ]
  }
 ],
 "metadata": {
  "kernelspec": {
   "display_name": "Python 3",
   "language": "python",
   "name": "python3"
  },
  "language_info": {
   "codemirror_mode": {
    "name": "ipython",
    "version": 3
   },
   "file_extension": ".py",
   "mimetype": "text/x-python",
   "name": "python",
   "nbconvert_exporter": "python",
   "pygments_lexer": "ipython3",
   "version": "3.7.1"
  }
 },
 "nbformat": 4,
 "nbformat_minor": 2
}
