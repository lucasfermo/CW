{
 "cells": [
  {
   "cell_type": "code",
   "execution_count": null,
   "metadata": {},
   "outputs": [],
   "source": []
  },
  {
   "cell_type": "code",
   "execution_count": 107,
   "metadata": {},
   "outputs": [
    {
     "data": {
      "text/plain": [
       "2"
      ]
     },
     "execution_count": 107,
     "metadata": {},
     "output_type": "execute_result"
    }
   ],
   "source": [
    "#You will be given an array. Each value represents a meeting room. Your job? Find the first\n",
    "#empty one and return its index (N.B. There may be more than one empty room in some test cases).\n",
    "\n",
    "#'X' --> busy 'O' --> empty\n",
    "\n",
    "#If all rooms are busy, return 'None available!'.\n",
    "\n",
    "\n",
    "def meeting(rooms):\n",
    "    return rooms.index(\"O\") if \"O\" in rooms else \"None available!\"\n",
    "\n",
    "meeting(['X','X','O','X','X'])"
   ]
  }
 ],
 "metadata": {
  "kernelspec": {
   "display_name": "Python 3",
   "language": "python",
   "name": "python3"
  },
  "language_info": {
   "codemirror_mode": {
    "name": "ipython",
    "version": 3
   },
   "file_extension": ".py",
   "mimetype": "text/x-python",
   "name": "python",
   "nbconvert_exporter": "python",
   "pygments_lexer": "ipython3",
   "version": "3.7.1"
  }
 },
 "nbformat": 4,
 "nbformat_minor": 2
}
