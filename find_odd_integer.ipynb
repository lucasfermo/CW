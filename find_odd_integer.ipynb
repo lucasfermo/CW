{
 "cells": [
  {
   "cell_type": "code",
   "execution_count": 1,
   "metadata": {},
   "outputs": [],
   "source": []
  },
  {
   "cell_type": "code",
   "execution_count": 335,
   "metadata": {},
   "outputs": [
    {
     "data": {
      "text/plain": [
       "5"
      ]
     },
     "execution_count": 335,
     "metadata": {},
     "output_type": "execute_result"
    }
   ],
   "source": [
    "#Given an array, find the int that appears an odd number of times.\n",
    "\n",
    "#There will always be only one integer that appears an odd number of times.\n",
    "\n",
    "\n",
    "def find_it(seq):\n",
    "    d={}\n",
    "    for x in seq:\n",
    "        if x not in d.keys():\n",
    "            d[x]=1\n",
    "        else: d[x]+=1\n",
    "            \n",
    "    return [x for x in d.keys() if d[x]%2==1][0]\n",
    "    \n",
    "    \n",
    "seq=[20,1,-1,2,-2,3,3,5,5,1,2,4,20,4,-1,-2,5]\n",
    "find_it(seq)\n"
   ]
  }
 ],
 "metadata": {
  "kernelspec": {
   "display_name": "Python 3",
   "language": "python",
   "name": "python3"
  },
  "language_info": {
   "codemirror_mode": {
    "name": "ipython",
    "version": 3
   },
   "file_extension": ".py",
   "mimetype": "text/x-python",
   "name": "python",
   "nbconvert_exporter": "python",
   "pygments_lexer": "ipython3",
   "version": "3.7.1"
  }
 },
 "nbformat": 4,
 "nbformat_minor": 2
}
