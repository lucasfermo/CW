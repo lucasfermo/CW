{
 "cells": [
  {
   "cell_type": "code",
   "execution_count": 1,
   "metadata": {},
   "outputs": [],
   "source": []
  },
  {
   "cell_type": "code",
   "execution_count": 57,
   "metadata": {},
   "outputs": [
    {
     "name": "stdout",
     "output_type": "stream",
     "text": [
      "\n"
     ]
    },
    {
     "data": {
      "text/plain": [
       "[[13, 9, 85], [14, 3, 176]]"
      ]
     },
     "execution_count": 57,
     "metadata": {},
     "output_type": "execute_result"
    }
   ],
   "source": [
    "#Task:\n",
    "#For each number in strng calculate its \"weight\" and then find two numbers of strng that have:\n",
    "#the smallest difference of weights ie that are the closest\n",
    "#with the smallest weights\n",
    "#and with the smallest indices (or ranks, numbered from 0) in strng\n",
    "\n",
    "#Output:\n",
    "#An array of two arrays, each subarray in the following format:\n",
    "#[number-weight, index in strng of the corresponding number, original corresponding number instrng]\n",
    "\n",
    "def closest(strng):\n",
    "    if not strng: return []\n",
    "    strng=strng.split(\" \")\n",
    "    \n",
    "    w=[sum([int(x) for x in y]) for y in strng]\n",
    "    w=sorted(zip(w,list(range(len(w)))))\n",
    "    last=0\n",
    "    m=[w[i][0]-w[i-1][0] for i in range(1,len(w))]\n",
    "    i=m.index(min(m))+1\n",
    "    \n",
    "    return [[w[i-1][0],w[i-1][1],int(strng[w[i-1][1]])],[w[i][0],w[i][1],int(strng[w[i][1]])]]"
   ]
  },
  {
   "cell_type": "code",
   "execution_count": 61,
   "metadata": {},
   "outputs": [
    {
     "name": "stdout",
     "output_type": "stream",
     "text": [
      "1\n"
     ]
    }
   ],
   "source": [
    "if \"\".split(\" \"):\n",
    "    print(1)"
   ]
  }
 ],
 "metadata": {
  "kernelspec": {
   "display_name": "Python 3",
   "language": "python",
   "name": "python3"
  },
  "language_info": {
   "codemirror_mode": {
    "name": "ipython",
    "version": 3
   },
   "file_extension": ".py",
   "mimetype": "text/x-python",
   "name": "python",
   "nbconvert_exporter": "python",
   "pygments_lexer": "ipython3",
   "version": "3.7.1"
  }
 },
 "nbformat": 4,
 "nbformat_minor": 2
}
