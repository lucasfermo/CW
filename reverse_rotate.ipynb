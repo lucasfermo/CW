{
 "cells": [
  {
   "cell_type": "code",
   "execution_count": 1,
   "metadata": {},
   "outputs": [],
   "source": []
  },
  {
   "cell_type": "code",
   "execution_count": 381,
   "metadata": {},
   "outputs": [
    {
     "data": {
      "text/plain": [
       "'234561876549'"
      ]
     },
     "execution_count": 381,
     "metadata": {},
     "output_type": "execute_result"
    }
   ],
   "source": [
    "#The input is a string str of digits. Cut the string into chunks (a chunk here is a\n",
    "#substring of the initial string) of size sz (ignore the last chunk if its size is less than sz).\n",
    "\n",
    "#If a chunk represents an integer such as the sum of the cubes of its digits is divisible by 2,\n",
    "#reverse that chunk; otherwise rotate it to the left by one position. Put together these modified \n",
    "#chunks and return the result as a string.\n",
    "\n",
    "\n",
    "def revrot(strng, sz):\n",
    "    if not sz: return \"\"\n",
    "    s=[strng[i-sz:i] for i in range(sz,len(strng)+1,sz)]\n",
    "    r=\"\"\n",
    "    for v in s:\n",
    "        if not sum([int(x)**3 for x in v]) % 2:\n",
    "            r+=v[::-1]\n",
    "        else:\n",
    "            r+=v[1:]+v[0]\n",
    "    return r\n",
    "    \n",
    "revrot(\"123456987654\", 6)"
   ]
  }
 ],
 "metadata": {
  "kernelspec": {
   "display_name": "Python 3",
   "language": "python",
   "name": "python3"
  },
  "language_info": {
   "codemirror_mode": {
    "name": "ipython",
    "version": 3
   },
   "file_extension": ".py",
   "mimetype": "text/x-python",
   "name": "python",
   "nbconvert_exporter": "python",
   "pygments_lexer": "ipython3",
   "version": "3.7.1"
  }
 },
 "nbformat": 4,
 "nbformat_minor": 2
}
