{
 "cells": [
  {
   "cell_type": "code",
   "execution_count": 85,
   "metadata": {
    "collapsed": true
   },
   "outputs": [],
   "source": [
    "import math,os,smtplib\n",
    "\n",
    "text align justify"
   ]
  },
  {
   "cell_type": "code",
   "execution_count": 95,
   "metadata": {},
   "outputs": [
    {
     "data": {
      "text/plain": [
       "'Lorem  ipsum dolor sit  amet,\\nconsectetur adipiscing  elit.\\nVestibulum   sagittis   dolor\\nmauris,  at elementum  ligula\\ntempor eget.  In quis  rhoncus\\nnunc, at aliquet orci.   Fusce\\nat   dolor  sit  amet   felis\\nsuscipit  tristique.   Nam   a\\nimperdiet  tellus.   Nulla  eu\\nvestibulum   urna.     Vivamus\\ntincidunt suscipit enim,  nec\\nultrices  nisi  volutpat  ac.\\nMaecenas  sit  amet   lacinia\\narcu, non dictum justo.  Donec\\nsed  quam vel risus  faucibus\\neuismod.  Suspendisse  rhoncus\\nrhoncus  felis at  fermentum.\\nDonec lorem magna,ultricies a\\nnunc   sit   amet,    blandit\\nfringilla nunc.  In vestibulum\\nvelit   ac   felis    rhoncus\\npellentesque.  Maurisat tellus\\nenim.  Aliquam eleifend tempus\\ndapibus. Pellentesque commodo,\\nnisi   sit   amet   hendrerit\\nfringilla,  ante  odio  porta\\nlacus,  ut  elementum   justo\\nnulla et dolor'"
      ]
     },
     "execution_count": 95,
     "metadata": {},
     "output_type": "execute_result"
    }
   ],
   "source": [
    "def justify(text,width):\n",
    "    lines=len(text)//width+1\n",
    "    while \"  \" in text:\n",
    "        text=text.replace('  ',' ')\n",
    "    words=text.split(\" \")\n",
    "    start=0\n",
    "    final=\"\"\n",
    "    while start<len(words):\n",
    "        current=[]\n",
    "        count=0\n",
    "        currentCount=0\n",
    "        for i,c in enumerate(words[start:]):\n",
    "            if count+len(c)>width:\n",
    "                break\n",
    "            count+=len(c)\n",
    "            count+=1\n",
    "            current.append(c)\n",
    "        start+=len(current)\n",
    "        for i in current:\n",
    "            currentCount+=len(i)\n",
    "\n",
    "        spaces=width-currentCount-1\n",
    "        if len(current)>1:\n",
    "            temp=current[:-1]\n",
    "            for i in range(len(temp)):\n",
    "                if \".\" in temp[i]:\n",
    "                    temp[i]+=\" \"\n",
    "            for j in range(spaces):\n",
    "                temp[j%len(temp)-1]+=\" \"\n",
    "            temp.append(current[-1])\n",
    "            temp=\"\".join(temp)+\"\\n\"\n",
    "        else:\n",
    "            temp=current[0]\n",
    "        final+=temp\n",
    "    last=final[-width:]\n",
    "    final=final[:-width]\n",
    "    while \"  \"in last:\n",
    "        last=last.replace(\"  \",\" \")\n",
    "    final=final+last\n",
    "    return final[:-2]\n",
    "\n",
    "\n",
    "justify(\"Lorem  ipsum  dolor  sit amet, \\\n",
    "consectetur  adipiscing  elit. \\\n",
    "Vestibulum    sagittis   dolor \\\n",
    "mauris,  at  elementum  ligula \\\n",
    "tempor  eget.  In quis rhoncus \\\n",
    "nunc,  at  aliquet orci. Fusce \\\n",
    "at   dolor   sit   amet  felis \\\n",
    "suscipit   tristique.   Nam  a \\\n",
    "imperdiet   tellus.  Nulla  eu \\\n",
    "vestibulum    urna.    Vivamus \\\n",
    "tincidunt  suscipit  enim, nec \\\n",
    "ultrices   nisi  volutpat  ac. \\\n",
    "Maecenas   sit   amet  lacinia \\\n",
    "arcu,  non dictum justo. Donec \\\n",
    "sed  quam  vel  risus faucibus \\\n",
    "euismod.  Suspendisse  rhoncus \\\n",
    "rhoncus  felis  at  fermentum. \\\n",
    "Donec lorem magna, ultricies a  \\\n",
    "nunc    sit    amet,   blandit \\\n",
    "fringilla  nunc. In vestibulum \\\n",
    "velit    ac    felis   rhoncus \\\n",
    "pellentesque. Mauris at tellus \\\n",
    "enim.  Aliquam eleifend tempus \\\n",
    "dapibus. Pellentesque commodo, \\\n",
    "nisi    sit   amet   hendrerit \\\n",
    "fringilla,   ante  odio  porta \\\n",
    "lacus,   ut   elementum  justo \\\n",
    "nulla et dolor.\",30)\n",
    "    \n"
   ]
  },
  {
   "cell_type": "code",
   "execution_count": 79,
   "metadata": {},
   "outputs": [
    {
     "data": {
      "text/plain": [
       "['hello', '', '', 'tere']"
      ]
     },
     "execution_count": 79,
     "metadata": {},
     "output_type": "execute_result"
    }
   ],
   "source": [
    "\"hello   tere\".split(\" \")"
   ]
  },
  {
   "cell_type": "code",
   "execution_count": 92,
   "metadata": {},
   "outputs": [
    {
     "data": {
      "text/plain": [
       "'lo'"
      ]
     },
     "execution_count": 92,
     "metadata": {},
     "output_type": "execute_result"
    }
   ],
   "source": [
    "'hello'[-2:]"
   ]
  }
 ],
 "metadata": {
  "kernelspec": {
   "display_name": "Python 3",
   "language": "python",
   "name": "python3"
  },
  "language_info": {
   "codemirror_mode": {
    "name": "ipython",
    "version": 3
   },
   "file_extension": ".py",
   "mimetype": "text/x-python",
   "name": "python",
   "nbconvert_exporter": "python",
   "pygments_lexer": "ipython3",
   "version": "3.6.1"
  }
 },
 "nbformat": 4,
 "nbformat_minor": 2
}
