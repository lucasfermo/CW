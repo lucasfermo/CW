{
 "cells": [
  {
   "cell_type": "code",
   "execution_count": null,
   "metadata": {},
   "outputs": [],
   "source": []
  },
  {
   "cell_type": "code",
   "execution_count": 40,
   "metadata": {},
   "outputs": [
    {
     "data": {
      "text/plain": [
       "59"
      ]
     },
     "execution_count": 40,
     "metadata": {},
     "output_type": "execute_result"
    }
   ],
   "source": [
    "#The maximum sum subarray problem consists in finding the maximum sum of a\n",
    "#contiguous subsequence in an array or list of integers:\n",
    "\n",
    "def maxSequence(arr):\n",
    "    d=[]\n",
    "    if arr==[]: return 0\n",
    "    s=0\n",
    "    for i,x in enumerate(arr):\n",
    "        s+=x\n",
    "        d.append(s)\n",
    "    \n",
    "    delta=0\n",
    "    maxDelta=0\n",
    "    low=0\n",
    "    found=False\n",
    "    for i in range(len(arr)):\n",
    "        if arr[i]>0 and not found :\n",
    "            found=True\n",
    "            low=0\n",
    "            if i>0:\n",
    "                low=d[i-1]\n",
    "        \n",
    "        if d[i]<low and  found:\n",
    "            found=False\n",
    "            if delta>maxDelta:\n",
    "                maxDelta=delta\n",
    "            delta=0\n",
    "        if found:\n",
    "            delta+=arr[i]\n",
    "            if delta>maxDelta:\n",
    "                maxDelta=delta\n",
    "    \n",
    "    \n",
    "    return maxDelta\n",
    "        \n",
    "\n",
    "l=[-7, -12, -21, -15, 15, -30, -19, -21, 22, -22, 12, -12, 4, -26, -15, 17, 8, -13, 29,\n",
    "   -20, -27, -3, 12, 5, -6, -28, -2, 5, -12, -12, 25, 6, 22, -28, -30, -4, 20, 18, 21, -8,\n",
    "   -14, -13, -22, 13, 1, -19, -2, -9, -7, -15]\n",
    "\n",
    "#l=[-2, 1, -3, 4, -1, 2, 1, -5, 4]\n",
    "maxSequence(l)\n"
   ]
  }
 ],
 "metadata": {
  "kernelspec": {
   "display_name": "Python 3",
   "language": "python",
   "name": "python3"
  },
  "language_info": {
   "codemirror_mode": {
    "name": "ipython",
    "version": 3
   },
   "file_extension": ".py",
   "mimetype": "text/x-python",
   "name": "python",
   "nbconvert_exporter": "python",
   "pygments_lexer": "ipython3",
   "version": "3.6.5"
  }
 },
 "nbformat": 4,
 "nbformat_minor": 2
}
