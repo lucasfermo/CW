{
 "cells": [
  {
   "cell_type": "code",
   "execution_count": null,
   "metadata": {},
   "outputs": [],
   "source": []
  },
  {
   "cell_type": "code",
   "execution_count": 204,
   "metadata": {},
   "outputs": [
    {
     "data": {
      "text/plain": [
       "True"
      ]
     },
     "execution_count": 204,
     "metadata": {},
     "output_type": "execute_result"
    }
   ],
   "source": [
    "\"\"\"\n",
    "As input your function will receive a list of strings representing the yard as a grid, and an\n",
    "integer representing the minimum distance needed to prevent problems (considering the cats' \n",
    "current states of sleepiness). A point with no cat in it will be represented by a \"-\" dash. \n",
    "Lou, Mustache Cat, and Raoul will be represented by an upper case L, M, and R respectively. \n",
    "At any particular time all three cats may be in the yard, or maybe two, one, or even none.\n",
    "\n",
    "If the number of cats in the yard is one or none, or if the distances between all cats are at\n",
    "least the minimum distance, your function should return True/true/TRUE (depending on what language\n",
    "you're using), but if there are two or three cats, and the distance between at least two of them is\n",
    "smaller than the minimum distance, your function should return False/false/FALSE.\n",
    "\"\"\"\n",
    "\n",
    "def peaceful_yard(yard, min_distance):\n",
    "    catLocations=[]\n",
    "    for ix,x in enumerate(yard):\n",
    "        for iy,y in enumerate(x):\n",
    "            if y!='-':\n",
    "                catLocations.append((ix,iy))\n",
    "    \n",
    "    r=True\n",
    "    for i in catLocations:\n",
    "        for j in catLocations:\n",
    "            distance=((i[0]-j[0])**2 + (i[1]-j[1])**2)**0.5\n",
    "            if distance < min_distance and distance:\n",
    "                r=False\n",
    "    \n",
    "    return r\n",
    "              \n",
    "#yard=[\"-----------L\", \"--R---------\", \"------------\", \"------------\", \"------------\", \"--M---------\"]\n",
    "    \n",
    "    \n",
    "peaceful_yard(yard,6)"
   ]
  }
 ],
 "metadata": {
  "kernelspec": {
   "display_name": "Python 3",
   "language": "python",
   "name": "python3"
  },
  "language_info": {
   "codemirror_mode": {
    "name": "ipython",
    "version": 3
   },
   "file_extension": ".py",
   "mimetype": "text/x-python",
   "name": "python",
   "nbconvert_exporter": "python",
   "pygments_lexer": "ipython3",
   "version": "3.7.1"
  }
 },
 "nbformat": 4,
 "nbformat_minor": 2
}
