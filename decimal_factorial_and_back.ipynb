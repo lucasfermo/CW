{
 "cells": [
  {
   "cell_type": "code",
   "execution_count": 1,
   "metadata": {},
   "outputs": [],
   "source": []
  },
  {
   "cell_type": "code",
   "execution_count": 198,
   "metadata": {},
   "outputs": [
    {
     "data": {
      "text/plain": [
       "371993326789760081614115597981491199999999"
      ]
     },
     "execution_count": 198,
     "metadata": {},
     "output_type": "execute_result"
    }
   ],
   "source": [
    "#In this system, the last digit is always 0 and is in base 0!.\n",
    "#The digit before that is either 0 or 1 and is in base 1!. The digit before that is either\n",
    "#0, 1, or 2 and is in base 2!.\n",
    "\n",
    "#More generally, the nth-to-last digit is always 0, 1, 2, ..., or n and is in base n!.\n",
    "\n",
    "#We will code two functions. The first one will code a decimal number and return a string with the\n",
    "#factorial representation : dec2FactString(nb)\n",
    "\n",
    "#The second one will decode a string with a factorial representation and produce the decimal \n",
    "#representation : factString2Dec(str).\n",
    "\n",
    "def dec2FactString(nb):\n",
    "    temp=0\n",
    "    r=\"\"\n",
    "    while fact(temp)<nb:\n",
    "        temp+=1\n",
    "    f=[fact(x) for x in range(temp)]\n",
    "    \n",
    "    s=\"0123456789ABCDEFGHIJKLMNOPQRSTUVWXYZ\"\n",
    "    \n",
    "    c=len(f)-1\n",
    "    \n",
    "    while c>=0:\n",
    "        t=0\n",
    "        x=f.pop()\n",
    "        for i in range(c):\n",
    "            if x<=nb:\n",
    "                nb-=x\n",
    "                t+=1\n",
    "        r+=s[t]\n",
    "        c-=1\n",
    "    \n",
    "    return r\n",
    "    \n",
    "def factString2Dec(string):\n",
    "    s=\"0123456789ABCDEFGHIJKLMNOPQRSTUVWXYZ\"\n",
    "    r=0\n",
    "    t=list(string)[::]\n",
    "    c=0\n",
    "    while t:\n",
    "        x=t.pop()\n",
    "        r+=fact(c) *s.index(x) \n",
    "        c+=1\n",
    "    return r\n",
    "        \n",
    "\n",
    "def fact(n):\n",
    "    if n>1:\n",
    "        return n* fact(n-1)\n",
    "    return n\n",
    "\n",
    "x='ZYXWVUTSERQPOMLKJIHGFEDCBA9876543210'\n",
    "dec2FactString(463)\n",
    "factString2Dec(x)"
   ]
  }
 ],
 "metadata": {
  "kernelspec": {
   "display_name": "Python 3",
   "language": "python",
   "name": "python3"
  },
  "language_info": {
   "codemirror_mode": {
    "name": "ipython",
    "version": 3
   },
   "file_extension": ".py",
   "mimetype": "text/x-python",
   "name": "python",
   "nbconvert_exporter": "python",
   "pygments_lexer": "ipython3",
   "version": "3.7.1"
  }
 },
 "nbformat": 4,
 "nbformat_minor": 2
}
