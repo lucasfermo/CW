{
 "cells": [
  {
   "cell_type": "code",
   "execution_count": null,
   "metadata": {},
   "outputs": [],
   "source": []
  },
  {
   "cell_type": "code",
   "execution_count": 19,
   "metadata": {},
   "outputs": [
    {
     "data": {
      "text/plain": [
       "{'N': 1}"
      ]
     },
     "execution_count": 19,
     "metadata": {},
     "output_type": "execute_result"
    }
   ],
   "source": [
    "def make_change(amount):\n",
    "    change=dict(H=50,Q=25,D=10,N=5,P=1)\n",
    "    changeList=list(\"HQDNP\")\n",
    "    r={}\n",
    "    while amount>0:\n",
    "        for c in changeList:\n",
    "            if change[c]<=amount:\n",
    "                amount-=change[c]\n",
    "                r[c]=r.get(c,0) + 1\n",
    "                break\n",
    "    return r\n",
    "    \n",
    "make_change(5)"
   ]
  }
 ],
 "metadata": {
  "kernelspec": {
   "display_name": "Python 3",
   "language": "python",
   "name": "python3"
  },
  "language_info": {
   "codemirror_mode": {
    "name": "ipython",
    "version": 3
   },
   "file_extension": ".py",
   "mimetype": "text/x-python",
   "name": "python",
   "nbconvert_exporter": "python",
   "pygments_lexer": "ipython3",
   "version": "3.7.1"
  }
 },
 "nbformat": 4,
 "nbformat_minor": 2
}
