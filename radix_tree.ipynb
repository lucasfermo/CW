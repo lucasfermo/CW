{
 "cells": [
  {
   "cell_type": "code",
   "execution_count": null,
   "metadata": {},
   "outputs": [],
   "source": []
  },
  {
   "cell_type": "code",
   "execution_count": 26,
   "metadata": {},
   "outputs": [
    {
     "name": "stdout",
     "output_type": "stream",
     "text": [
      "['romane', 'romanus', 'romulus']\n",
      "['romane', 'romanus', 'romulus']\n",
      "['romane', 'romanus', 'romulus']\n",
      "['romane', 'romanus', 'romulus']\n",
      "['ane', 'anus', 'ulus'] here\n",
      "['ane', 'anus', 'ulus']\n"
     ]
    },
    {
     "data": {
      "text/plain": [
       "{'rom': {'ane': {}, 'anus': {}, 'ulus': {}}}"
      ]
     },
     "execution_count": 26,
     "metadata": {},
     "output_type": "execute_result"
    }
   ],
   "source": [
    "def radix_tree(*words):\n",
    "    w=sorted([x for x in words])\n",
    "    r={}\n",
    "    last=\"\"\n",
    "    return recur_words(w,1,last)\n",
    "        \n",
    "def recur_words(w,i,tail):\n",
    "    t=[x for x in w if tail in x]\n",
    "    temp=list(set([x[:i] for x in t]))\n",
    "\n",
    "    if len(t)==1:\n",
    "        return {t[0][i-1:]:{}}\n",
    "    \n",
    "    if len(temp)==1:\n",
    "        if temp[0]==\"\":\n",
    "            return 0\n",
    "        return recur_words(w,i+1,temp[0])\n",
    "        \n",
    "    elif len(temp)>1:\n",
    "        d={}\n",
    "        if i==1:\n",
    "            for x in w:\n",
    "                d[x]={}\n",
    "            return d\n",
    "        w=[y[i-1:] for y in w]\n",
    "        \n",
    "        return {temp[0][:i-1]:recur_words(w,1,\"\")}\n",
    "      \n",
    "        \n",
    "radix_tree(\"romane\", \"romanus\", \"romulus\")\n",
    "#radix_tree(\"appa\")"
   ]
  }
 ],
 "metadata": {
  "kernelspec": {
   "display_name": "Python 3",
   "language": "python",
   "name": "python3"
  },
  "language_info": {
   "codemirror_mode": {
    "name": "ipython",
    "version": 3
   },
   "file_extension": ".py",
   "mimetype": "text/x-python",
   "name": "python",
   "nbconvert_exporter": "python",
   "pygments_lexer": "ipython3",
   "version": "3.7.1"
  }
 },
 "nbformat": 4,
 "nbformat_minor": 2
}
