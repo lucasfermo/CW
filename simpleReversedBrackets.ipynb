{
 "cells": [
  {
   "cell_type": "code",
   "execution_count": 1,
   "metadata": {
    "collapsed": true
   },
   "outputs": [],
   "source": [
    "import math,os"
   ]
  },
  {
   "cell_type": "code",
   "execution_count": 220,
   "metadata": {},
   "outputs": [
    {
     "name": "stdout",
     "output_type": "stream",
     "text": [
      "0\n",
      "['(']\n",
      "0\n",
      "['(', '(']\n",
      "0\n",
      "['(', '(', '(']\n",
      "0\n",
      "['(', '(']\n"
     ]
    },
    {
     "data": {
      "text/plain": [
       "1"
      ]
     },
     "execution_count": 220,
     "metadata": {},
     "output_type": "execute_result"
    }
   ],
   "source": [
    "def solve(s):\n",
    "    if len(s)%2>0:\n",
    "        return -1\n",
    "    count=0\n",
    "    temp=[]\n",
    "    for i in s:\n",
    "        if i==\"(\": temp.append(i)\n",
    "        else: \n",
    "            if \"(\" in temp:\n",
    "                temp.remove(\"(\")\n",
    "            else: \n",
    "                temp.append(\"(\")\n",
    "                count+=1\n",
    "    count+=len(temp)//2\n",
    "    return count\n",
    "\n",
    "test=\"((()\"    \n",
    "solve(test)        \n"
   ]
  },
  {
   "cell_type": "code",
   "execution_count": 197,
   "metadata": {},
   "outputs": [],
   "source": [
    "test=[\"3\",\"5\"]\n",
    "test.remove(\"3\")"
   ]
  },
  {
   "cell_type": "code",
   "execution_count": null,
   "metadata": {},
   "outputs": [],
   "source": []
  }
 ],
 "metadata": {
  "kernelspec": {
   "display_name": "Python 3",
   "language": "python",
   "name": "python3"
  },
  "language_info": {
   "codemirror_mode": {
    "name": "ipython",
    "version": 3
   },
   "file_extension": ".py",
   "mimetype": "text/x-python",
   "name": "python",
   "nbconvert_exporter": "python",
   "pygments_lexer": "ipython3",
   "version": "3.6.1"
  }
 },
 "nbformat": 4,
 "nbformat_minor": 2
}
