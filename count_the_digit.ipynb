{
 "cells": [
  {
   "cell_type": "code",
   "execution_count": null,
   "metadata": {},
   "outputs": [],
   "source": []
  },
  {
   "cell_type": "code",
   "execution_count": 52,
   "metadata": {},
   "outputs": [
    {
     "data": {
      "text/plain": [
       "4"
      ]
     },
     "execution_count": 52,
     "metadata": {},
     "output_type": "execute_result"
    }
   ],
   "source": [
    "#Take an integer n (n >= 0) and a digit d (0 <= d <= 9) as an integer. Square\n",
    "#all numbers k (0 <= k <= n) between 0 and n. Count the numbers of digits d used\n",
    "#in the writing of all the k**2. \n",
    "\n",
    "\n",
    "def nb_dig(n, d):\n",
    "    d=str(d)\n",
    "    s=0\n",
    "    for i in range(0,n+1):\n",
    "        for j in str(i**2):\n",
    "            if j == d:\n",
    "                s+=1\n",
    "    return s\n",
    "\n",
    "nb_dig(10,1)"
   ]
  }
 ],
 "metadata": {
  "kernelspec": {
   "display_name": "Python 3",
   "language": "python",
   "name": "python3"
  },
  "language_info": {
   "codemirror_mode": {
    "name": "ipython",
    "version": 3
   },
   "file_extension": ".py",
   "mimetype": "text/x-python",
   "name": "python",
   "nbconvert_exporter": "python",
   "pygments_lexer": "ipython3",
   "version": "3.7.1"
  }
 },
 "nbformat": 4,
 "nbformat_minor": 2
}
