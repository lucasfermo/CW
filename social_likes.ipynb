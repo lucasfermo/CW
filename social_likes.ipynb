{
 "cells": [
  {
   "cell_type": "code",
   "execution_count": null,
   "metadata": {},
   "outputs": [],
   "source": []
  },
  {
   "cell_type": "code",
   "execution_count": 69,
   "metadata": {},
   "outputs": [
    {
     "data": {
      "text/plain": [
       "'Lucas, Orazio and Fermo like this'"
      ]
     },
     "execution_count": 69,
     "metadata": {},
     "output_type": "execute_result"
    }
   ],
   "source": [
    "#\n",
    "\n",
    "def likes(names):\n",
    "    l=len(names)\n",
    "    if not l:\n",
    "        return \"no one likes this\"\n",
    "    elif l==1:\n",
    "        return \"{} likes this\".format(*names)\n",
    "    elif l==2:\n",
    "        return \"{} and {} like this\".format(*names)\n",
    "    elif l==3:\n",
    "        return \"{}, {} and {} like this\".format(*names)\n",
    "    return \"{}, {} and {} others like this\".format(names[0],names[1],l-2)\n",
    "    \n",
    "n=[\"Lucas\",\"Orazio\",\"Fermo\"]    \n",
    "likes(n)"
   ]
  }
 ],
 "metadata": {
  "kernelspec": {
   "display_name": "Python 3",
   "language": "python",
   "name": "python3"
  },
  "language_info": {
   "codemirror_mode": {
    "name": "ipython",
    "version": 3
   },
   "file_extension": ".py",
   "mimetype": "text/x-python",
   "name": "python",
   "nbconvert_exporter": "python",
   "pygments_lexer": "ipython3",
   "version": "3.7.1"
  }
 },
 "nbformat": 4,
 "nbformat_minor": 2
}
