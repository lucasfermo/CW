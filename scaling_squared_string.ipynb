{
 "cells": [
  {
   "cell_type": "code",
   "execution_count": 1,
   "metadata": {},
   "outputs": [],
   "source": []
  },
  {
   "cell_type": "code",
   "execution_count": 259,
   "metadata": {},
   "outputs": [
    {
     "data": {
      "text/plain": [
       "'aabbccdd\\naabbccdd\\naabbccdd\\neeffgghh\\neeffgghh\\neeffgghh\\niijjkkll\\niijjkkll\\niijjkkll\\nmmnnoopp\\nmmnnoopp\\nmmnnoopp'"
      ]
     },
     "execution_count": 259,
     "metadata": {},
     "output_type": "execute_result"
    }
   ],
   "source": [
    "#You are given a string of n lines, each substring being n characters long. For example:\n",
    "\n",
    "#s = \"abcd\\nefgh\\nijkl\\nmnop\"\n",
    "\n",
    "#We will study the \"horizontal\" and the \"vertical\" scaling of this square of strings.\n",
    "\n",
    "#A k-horizontal scaling of a string consists of replicating k times each character of the string (except '\\n').\n",
    "\n",
    "#A v-vertical scaling of a string consists of replicating v times each part of the squared string.\n",
    "#Example: 2-vertical scaling of s: => \"abcd\\nabcd\\nefgh\\nefgh\\nijkl\\nijkl\\nmnop\\nmnop\"\n",
    "#Function scale(strng, k, v) will perform a k-horizontal scaling and a v-vertical scaling.\n",
    "\n",
    "\n",
    "def scale(strng, k, n):\n",
    "    if not strng: return \"\"\n",
    "    return \"\\n\".join(sum([[\"\".join([a*k for a in x])]*n for x in strng.split(\"\\n\")],[]))\n",
    "\n",
    "scale(\"abcd\\nefgh\\nijkl\\nmnop\",2,3)"
   ]
  }
 ],
 "metadata": {
  "kernelspec": {
   "display_name": "Python 3",
   "language": "python",
   "name": "python3"
  },
  "language_info": {
   "codemirror_mode": {
    "name": "ipython",
    "version": 3
   },
   "file_extension": ".py",
   "mimetype": "text/x-python",
   "name": "python",
   "nbconvert_exporter": "python",
   "pygments_lexer": "ipython3",
   "version": "3.7.1"
  }
 },
 "nbformat": 4,
 "nbformat_minor": 2
}
