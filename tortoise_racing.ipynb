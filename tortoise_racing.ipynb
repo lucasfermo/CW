{
 "cells": [
  {
   "cell_type": "code",
   "execution_count": 201,
   "metadata": {},
   "outputs": [],
   "source": []
  },
  {
   "cell_type": "code",
   "execution_count": 427,
   "metadata": {},
   "outputs": [
    {
     "data": {
      "text/plain": [
       "[0.0, 32.0, 18.0]"
      ]
     },
     "execution_count": 427,
     "metadata": {},
     "output_type": "execute_result"
    }
   ],
   "source": [
    "#Given two speeds v1 (A's speed, integer > 0) and \n",
    "#v2 (B's speed, integer > 0) and a lead g (integer > 0) how long will it take B to catch A?\n",
    "#return [hour,minute,second]\n",
    "\n",
    "def race(v1, v2, g):\n",
    "    t= g/((v2-v1)/3600)\n",
    "    return [t//(60**i) % 60 for i in range(2,-1,-1)] if v2>v1 else None\n",
    "          \n",
    "race(720, 850, 70)\n"
   ]
  }
 ],
 "metadata": {
  "kernelspec": {
   "display_name": "Python 3",
   "language": "python",
   "name": "python3"
  },
  "language_info": {
   "codemirror_mode": {
    "name": "ipython",
    "version": 3
   },
   "file_extension": ".py",
   "mimetype": "text/x-python",
   "name": "python",
   "nbconvert_exporter": "python",
   "pygments_lexer": "ipython3",
   "version": "3.7.1"
  }
 },
 "nbformat": 4,
 "nbformat_minor": 2
}
