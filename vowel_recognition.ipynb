{
 "cells": [
  {
   "cell_type": "code",
   "execution_count": null,
   "metadata": {},
   "outputs": [],
   "source": []
  },
  {
   "cell_type": "code",
   "execution_count": 93,
   "metadata": {},
   "outputs": [
    {
     "name": "stdout",
     "output_type": "stream",
     "text": [
      "0\n",
      "1\n",
      "2\n",
      "3\n",
      "4\n",
      "4\n",
      "3\n",
      "2\n",
      "1\n",
      "0\n"
     ]
    },
    {
     "data": {
      "text/plain": [
       "220"
      ]
     },
     "execution_count": 93,
     "metadata": {},
     "output_type": "execute_result"
    }
   ],
   "source": [
    "def vowel_recognition(inp):\n",
    "    inp=inp.upper()\n",
    "    l=len(inp)\n",
    "    s=0\n",
    "    mid=l//2\n",
    "    for i in range(l):\n",
    "        j=i\n",
    "        if j>=mid:\n",
    "            j=l-1-i\n",
    "        if inp[i] in 'AEIOU':\n",
    "            s+= (l-j) * (j+1)\n",
    "    return s\n",
    "            \n",
    "vowel_recognition('aeiouAEIOU')\n",
    "#vowel_recognition('aeiouAEIOU')\n"
   ]
  },
  {
   "cell_type": "code",
   "execution_count": 89,
   "metadata": {},
   "outputs": [
    {
     "name": "stdout",
     "output_type": "stream",
     "text": [
      "0\n",
      "1\n",
      "1\n",
      "0\n"
     ]
    }
   ],
   "source": [
    "def triangular_number(n):\n",
    "    if n>0:\n",
    "        return n + triangular_number(n-1)\n",
    "    return 0\n",
    "\n",
    "for i in range(4):\n",
    "    j=i\n",
    "    if i>=2:\n",
    "        j=3-i\n",
    "    print(j)\n"
   ]
  }
 ],
 "metadata": {
  "kernelspec": {
   "display_name": "Python 3",
   "language": "python",
   "name": "python3"
  },
  "language_info": {
   "codemirror_mode": {
    "name": "ipython",
    "version": 3
   },
   "file_extension": ".py",
   "mimetype": "text/x-python",
   "name": "python",
   "nbconvert_exporter": "python",
   "pygments_lexer": "ipython3",
   "version": "3.7.1"
  }
 },
 "nbformat": 4,
 "nbformat_minor": 2
}
