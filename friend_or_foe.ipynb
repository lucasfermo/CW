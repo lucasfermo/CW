{
 "cells": [
  {
   "cell_type": "code",
   "execution_count": 1,
   "metadata": {},
   "outputs": [],
   "source": []
  },
  {
   "cell_type": "code",
   "execution_count": 18,
   "metadata": {},
   "outputs": [
    {
     "data": {
      "text/plain": [
       "('S1', '0', ['S1', 'S1', 'S2', 'S3', 'S4', 'S1'])"
      ]
     },
     "execution_count": 18,
     "metadata": {},
     "output_type": "execute_result"
    }
   ],
   "source": [
    "#In this Kata we are going to design our very own basic FSM class that takes in a string\n",
    "#of instructions\n",
    "\n",
    "#instructions is a string input with the following format:\n",
    "\n",
    "#first; next_if_input_0, next_if_input_1; output\\n\n",
    "#second; next_if_input_0, next_if_input_1; output\\n\n",
    "#third; next_if_input_0, next_if_input_1; output\n",
    "\n",
    "class FSM(object):\n",
    "    def __init__(self, instructions):\n",
    "        temp=instructions.split(\"\\n\")\n",
    "        self.d={x.split(\";\")[0]:(x.split(\";\")[1].split(\",\")[0].strip(),\n",
    "            x.split(\";\")[1].split(\",\")[1].strip(),\n",
    "            x.split(\";\")[2].strip()) for x in temp}\n",
    "        \n",
    "        \n",
    "    def run_fsm(self, start, sequence):\n",
    "        # return tuple: (final_state, final_state_output, path)\n",
    "        steps=[start]\n",
    "        cur=start\n",
    "        for v in sequence:\n",
    "            full=self.d[cur]\n",
    "            cur=full[v]\n",
    "            steps.append(cur)\n",
    "        return (cur,int(self.d[cur][2]),steps)\n",
    "    \n",
    "f=FSM(instructions)\n",
    "f.run_fsm(\"S1\",[0,1,1,0,1])          "
   ]
  },
  {
   "cell_type": "code",
   "execution_count": 19,
   "metadata": {},
   "outputs": [],
   "source": [
    "instructions = \\\n",
    "'''S1; S1, S2; 9\n",
    "S2; S1, S3; 10\n",
    "S3; S4, S3; 8\n",
    "S4; S4, S1; 0'''"
   ]
  }
 ],
 "metadata": {
  "kernelspec": {
   "display_name": "Python 3",
   "language": "python",
   "name": "python3"
  },
  "language_info": {
   "codemirror_mode": {
    "name": "ipython",
    "version": 3
   },
   "file_extension": ".py",
   "mimetype": "text/x-python",
   "name": "python",
   "nbconvert_exporter": "python",
   "pygments_lexer": "ipython3",
   "version": "3.7.1"
  }
 },
 "nbformat": 4,
 "nbformat_minor": 2
}
