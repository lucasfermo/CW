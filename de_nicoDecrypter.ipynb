{
 "cells": [
  {
   "cell_type": "code",
   "execution_count": 2,
   "metadata": {
    "collapsed": true
   },
   "outputs": [],
   "source": [
    "import math"
   ]
  },
  {
   "cell_type": "code",
   "execution_count": 402,
   "metadata": {},
   "outputs": [
    {
     "name": "stdout",
     "output_type": "stream",
     "text": [
      "1\n",
      "5\n",
      "8\n",
      "2\n",
      "4\n",
      "0\n",
      "3\n",
      "7\n",
      "6\n",
      "1\n",
      "5\n",
      "8\n",
      "2\n",
      "4\n",
      "0\n",
      "3\n",
      "7\n",
      "6\n"
     ]
    },
    {
     "data": {
      "text/plain": [
       "'nswvvmciabk'"
      ]
     },
     "execution_count": 402,
     "metadata": {},
     "output_type": "execute_result"
    }
   ],
   "source": [
    "def de_nico(key,msg):\n",
    "    length=len(key)\n",
    "    key=list(key)\n",
    "    rank={}\n",
    "    message=\"\"\n",
    "    \n",
    "    if length>len(msg):\n",
    "        for i in range(10):\n",
    "            rank[str(i)]=i\n",
    "            \n",
    "    else:\n",
    "        for i in range(length):\n",
    "            ind=key.index(min(key))\n",
    "            rank[ind]=i\n",
    "            key[ind]=\"~\"\n",
    "        \n",
    "    msg=msg.replace(\" \",\"~\")\n",
    "\n",
    "    for i in range(len(msg)//length+1):\n",
    "        for j in range(length):\n",
    "            try:\n",
    "                j=rank[j]\n",
    "                print(j)\n",
    "                if i*length+j>=len(msg):\n",
    "                    pass\n",
    "                else:\n",
    "                    message+=msg[(i*length+j)]\n",
    "            except:\n",
    "                pass\n",
    "            \n",
    "    message=message.replace(\"~\",\" \")\n",
    "    message=message.strip()\n",
    "        \n",
    "    return message\n",
    "        \n",
    "de_nico(\"fsxgodhwv\",'mnvcvsaiwkb')\n",
    "        \n",
    "    \n",
    "    \n",
    "    \n",
    "    "
   ]
  },
  {
   "cell_type": "code",
   "execution_count": 342,
   "metadata": {},
   "outputs": [
    {
     "data": {
      "text/plain": [
       "[[0, 0, 0, 0, 0],\n",
       " [0, 0, 0, 0, 0],\n",
       " [0, 0, 0, 0, 0],\n",
       " [0, 0, 0, 0, 0],\n",
       " [0, 0, 0, 0, 0]]"
      ]
     },
     "execution_count": 342,
     "metadata": {},
     "output_type": "execute_result"
    }
   ],
   "source": [
    "l=[[0]*5]*5\n",
    "l"
   ]
  },
  {
   "cell_type": "code",
   "execution_count": 273,
   "metadata": {},
   "outputs": [
    {
     "data": {
      "text/plain": [
       "True"
      ]
     },
     "execution_count": 273,
     "metadata": {},
     "output_type": "execute_result"
    }
   ],
   "source": [
    "l=[\"ara\",\"wr\"]\n",
    "l[1].isalpha()"
   ]
  },
  {
   "cell_type": "code",
   "execution_count": 177,
   "metadata": {},
   "outputs": [
    {
     "data": {
      "text/plain": [
       "1"
      ]
     },
     "execution_count": 177,
     "metadata": {},
     "output_type": "execute_result"
    }
   ],
   "source": []
  }
 ],
 "metadata": {
  "kernelspec": {
   "display_name": "Python 3",
   "language": "python",
   "name": "python3"
  },
  "language_info": {
   "codemirror_mode": {
    "name": "ipython",
    "version": 3
   },
   "file_extension": ".py",
   "mimetype": "text/x-python",
   "name": "python",
   "nbconvert_exporter": "python",
   "pygments_lexer": "ipython3",
   "version": "3.6.1"
  }
 },
 "nbformat": 4,
 "nbformat_minor": 2
}
