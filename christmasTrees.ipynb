{
 "cells": [
  {
   "cell_type": "code",
   "execution_count": 85,
   "metadata": {
    "collapsed": true
   },
   "outputs": [],
   "source": [
    "import math,os,smtplib\n",
    "\n"
   ]
  },
  {
   "cell_type": "code",
   "execution_count": 115,
   "metadata": {},
   "outputs": [
    {
     "data": {
      "text/plain": [
       "'   *\\r\\n  ***\\r\\n *****\\r\\n  ***\\r\\n *****\\r\\n*******\\r\\n  ###'"
      ]
     },
     "execution_count": 115,
     "metadata": {},
     "output_type": "execute_result"
    }
   ],
   "source": [
    "def christmas_tree(height):\n",
    "    levels=height//3\n",
    "    if levels==0:\n",
    "        return \"\"\n",
    "    tree=\"\"\n",
    "    for i in range(levels):\n",
    "        for j in range(3):\n",
    "            tree+=\" \"*(levels-i+1-j)\n",
    "            tree+=\"*\"*(j*2+1+i*2)\n",
    "            tree+=\"\\r\\n\"\n",
    "\n",
    "    tree+=\" \"*levels\n",
    "    tree+=\"###\"\n",
    "    \n",
    "    return tree\n",
    "\n",
    "christmas_tree(6)"
   ]
  },
  {
   "cell_type": "code",
   "execution_count": 107,
   "metadata": {},
   "outputs": [
    {
     "name": "stdout",
     "output_type": "stream",
     "text": [
      "  *\r\n",
      " ***\r\n",
      "*****\r\n",
      " ###\n"
     ]
    }
   ],
   "source": [
    "print(\"  *\\r\\n ***\\r\\n*****\\r\\n ###\")"
   ]
  },
  {
   "cell_type": "code",
   "execution_count": null,
   "metadata": {
    "collapsed": true
   },
   "outputs": [],
   "source": []
  }
 ],
 "metadata": {
  "kernelspec": {
   "display_name": "Python 3",
   "language": "python",
   "name": "python3"
  },
  "language_info": {
   "codemirror_mode": {
    "name": "ipython",
    "version": 3
   },
   "file_extension": ".py",
   "mimetype": "text/x-python",
   "name": "python",
   "nbconvert_exporter": "python",
   "pygments_lexer": "ipython3",
   "version": "3.6.1"
  }
 },
 "nbformat": 4,
 "nbformat_minor": 2
}
