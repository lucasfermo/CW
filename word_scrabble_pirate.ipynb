{
 "cells": [
  {
   "cell_type": "code",
   "execution_count": null,
   "metadata": {},
   "outputs": [],
   "source": []
  },
  {
   "cell_type": "code",
   "execution_count": 36,
   "metadata": {},
   "outputs": [
    {
     "name": "stdout",
     "output_type": "stream",
     "text": [
      "['b', 'o']\n"
     ]
    },
    {
     "data": {
      "text/plain": [
       "['bob']"
      ]
     },
     "execution_count": 36,
     "metadata": {},
     "output_type": "execute_result"
    }
   ],
   "source": [
    "def grabscrab(word, possible_words):\n",
    "    r=[]\n",
    "    wordDict=sorted(list(create_char_dict(word).items()))\n",
    "    for _word in possible_words:\n",
    "        possibleDict=sorted(list(create_char_dict(_word).items()))\n",
    "        print(possibleDict)\n",
    "        if wordDict==possibleDict: r.append(_word)\n",
    "        \n",
    "    return r\n",
    "\n",
    "def create_char_dict(w):\n",
    "    d={}\n",
    "    for c in w: d[c] = d.get(c,0) + 1\n",
    "    return d.items()\n",
    "\n",
    "#grabscrab(\"oolp\", [\"donkey\", \"pool\", \"horse\", \"loop\"])\n",
    "grabscrab(\"oob\", [\"bob\"])"
   ]
  }
 ],
 "metadata": {
  "kernelspec": {
   "display_name": "Python 3",
   "language": "python",
   "name": "python3"
  },
  "language_info": {
   "codemirror_mode": {
    "name": "ipython",
    "version": 3
   },
   "file_extension": ".py",
   "mimetype": "text/x-python",
   "name": "python",
   "nbconvert_exporter": "python",
   "pygments_lexer": "ipython3",
   "version": "3.7.1"
  }
 },
 "nbformat": 4,
 "nbformat_minor": 2
}
