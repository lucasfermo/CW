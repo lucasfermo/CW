{
 "cells": [
  {
   "cell_type": "code",
   "execution_count": null,
   "metadata": {},
   "outputs": [],
   "source": []
  },
  {
   "cell_type": "code",
   "execution_count": null,
   "metadata": {},
   "outputs": [],
   "source": [
    "def count_inversions(array):\n",
    "    s=sorted(array)\n",
    "    a=array\n",
    "    d={}\n",
    "    c=0\n",
    "    while a != s:\n",
    "        t=[]\n",
    "        for i,v in enumerate(a):\n",
    "            if a[i]>s[i]:\n",
    "                first=[i,v]\n",
    "                break\n",
    "        for i,v in enumerate(a):\n",
    "            if a[i]<s[i]:\n",
    "                second=[i,v]\n",
    "                break\n",
    "        a[first[0]]=second[1]\n",
    "        a[second[0]] = first[1]\n",
    "        c+=1\n",
    "\n",
    "    return c\n",
    "        \n",
    "count_inversions([6,5,4,3,2,1])\n",
    "        \n",
    "        "
   ]
  },
  {
   "cell_type": "code",
   "execution_count": 110,
   "metadata": {},
   "outputs": [
    {
     "data": {
      "text/plain": [
       "True"
      ]
     },
     "execution_count": 110,
     "metadata": {},
     "output_type": "execute_result"
    }
   ],
   "source": [
    "[1,2] == [1,2]"
   ]
  }
 ],
 "metadata": {
  "kernelspec": {
   "display_name": "Python 3",
   "language": "python",
   "name": "python3"
  },
  "language_info": {
   "codemirror_mode": {
    "name": "ipython",
    "version": 3
   },
   "file_extension": ".py",
   "mimetype": "text/x-python",
   "name": "python",
   "nbconvert_exporter": "python",
   "pygments_lexer": "ipython3",
   "version": "3.7.1"
  }
 },
 "nbformat": 4,
 "nbformat_minor": 2
}
