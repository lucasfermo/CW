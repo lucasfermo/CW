{
 "cells": [
  {
   "cell_type": "code",
   "execution_count": null,
   "metadata": {},
   "outputs": [],
   "source": []
  },
  {
   "cell_type": "code",
   "execution_count": 33,
   "metadata": {},
   "outputs": [
    {
     "data": {
      "text/plain": [
       "[55, 89, True]"
      ]
     },
     "execution_count": 33,
     "metadata": {},
     "output_type": "execute_result"
    }
   ],
   "source": [
    "#Given a number, say prod (for product), we search two Fibonacci numbers F(n) and F(n+1) verifying\n",
    "#f(n) * f(n+1)==pod\n",
    "\n",
    "#If no consecuve fibonacci numbers satisfy the above, return\n",
    "#F(m) being the smallest one such as F(m) * F(m+1) > prod.\n",
    "\n",
    "\n",
    "def productFib(prod):\n",
    "    f1=1\n",
    "    f2=1\n",
    "    last=1\n",
    "    for i in range(prod):\n",
    "        f2+=f1\n",
    "        f1=f2-f1\n",
    "        if f1 * f2 == prod:\n",
    "            return [f1,f2,True]\n",
    "            \n",
    "        if f1 * f2 > prod:\n",
    "            return [f1,f2,False]\n",
    "\n",
    "        \n",
    "        \n",
    "    \n",
    "productFib(4895)"
   ]
  },
  {
   "cell_type": "code",
   "execution_count": 3,
   "metadata": {},
   "outputs": [
    {
     "data": {
      "text/plain": [
       "97"
      ]
     },
     "execution_count": 3,
     "metadata": {},
     "output_type": "execute_result"
    }
   ],
   "source": []
  }
 ],
 "metadata": {
  "kernelspec": {
   "display_name": "Python 3",
   "language": "python",
   "name": "python3"
  },
  "language_info": {
   "codemirror_mode": {
    "name": "ipython",
    "version": 3
   },
   "file_extension": ".py",
   "mimetype": "text/x-python",
   "name": "python",
   "nbconvert_exporter": "python",
   "pygments_lexer": "ipython3",
   "version": "3.7.1"
  }
 },
 "nbformat": 4,
 "nbformat_minor": 2
}
