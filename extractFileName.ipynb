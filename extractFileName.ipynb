{
 "cells": [
  {
   "cell_type": "code",
   "execution_count": 85,
   "metadata": {},
   "outputs": [],
   "source": [
    "import math,os,smtplib\n",
    "\n"
   ]
  },
  {
   "cell_type": "code",
   "execution_count": 127,
   "metadata": {},
   "outputs": [
    {
     "data": {
      "text/plain": [
       "'myFile.tar'"
      ]
     },
     "execution_count": 127,
     "metadata": {},
     "output_type": "execute_result"
    }
   ],
   "source": [
    "class FileNameExtractor:\n",
    "    def extract_file_name(self,dirty_file_name):\n",
    "        dirty=dirty_file_name\n",
    "        string=\"\"\n",
    "        ext=dirty_file_name.split(\".\")\n",
    "        found=False\n",
    "        \n",
    "        for i, c in enumerate(dirty):\n",
    "            if c==\"_\" and not found:\n",
    "                found=True\n",
    "                continue\n",
    "            if found:\n",
    "                if c==\".\":\n",
    "                    break\n",
    "                string+=c\n",
    "        \n",
    "        \n",
    "        return string+\".\"+ext[1]\n",
    "        \n",
    "f=FileNameExtractor()\n",
    "f.extract_file_name('1231231223123131_myFile.tar.gz2')\n",
    "        \n",
    "        "
   ]
  },
  {
   "cell_type": "code",
   "execution_count": null,
   "metadata": {},
   "outputs": [],
   "source": []
  },
  {
   "cell_type": "code",
   "execution_count": 100,
   "metadata": {},
   "outputs": [
    {
     "name": "stdout",
     "output_type": "stream",
     "text": [
      "3.4\n"
     ]
    }
   ],
   "source": []
  }
 ],
 "metadata": {
  "kernelspec": {
   "display_name": "Python 3",
   "language": "python",
   "name": "python3"
  },
  "language_info": {
   "codemirror_mode": {
    "name": "ipython",
    "version": 3
   },
   "file_extension": ".py",
   "mimetype": "text/x-python",
   "name": "python",
   "nbconvert_exporter": "python",
   "pygments_lexer": "ipython3",
   "version": "3.6.1"
  }
 },
 "nbformat": 4,
 "nbformat_minor": 2
}
