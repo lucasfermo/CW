{
 "cells": [
  {
   "cell_type": "code",
   "execution_count": 2,
   "metadata": {
    "collapsed": true
   },
   "outputs": [],
   "source": [
    "import math"
   ]
  },
  {
   "cell_type": "code",
   "execution_count": 485,
   "metadata": {},
   "outputs": [],
   "source": [
    "def stripUrlParams(url,strip_url_params=[]):\n",
    "    url=url.split(\"?\")\n",
    "    if len(url)==1:\n",
    "        return url\n",
    "    queries=\" \".join(url[1].split(\"&\"))\n",
    "    dup=queries.split(\" \")\n",
    "    print(dup)\n",
    "    queries=[\"\"]*len(dup)\n",
    "    for i in range(len(dup)):\n",
    "        found=False\n",
    "        for j in range(30):\n",
    "            if not found:\n",
    "                if dup[i][j]==\"=\":\n",
    "                    \n",
    "                    found=True\n",
    "                elif not found:\n",
    "    \n",
    "                    queries[i]+=dup[i][j]\n",
    "    test={}\n",
    "    for i in queries:\n",
    "        found=False\n",
    "        for j in strip_url_params:\n",
    "            if i in j:\n",
    "                queries.remove(i)\n",
    "    for i in queries:\n",
    "        try:\n",
    "            test[i]=0\n",
    "        except:\n",
    "            test[i]=0\n",
    "            \n",
    "    allowed=[]\n",
    "    for i in test.keys():\n",
    "        temp=[]\n",
    "        for j in dup:\n",
    "            if i in j:\n",
    "                temp.append(j)\n",
    "        allowed.append(temp[test[i]])\n",
    "    \n",
    "    for i in range(len(allowed)):\n",
    "        if i-1>=0:\n",
    "            allowed[i-1]+=\"&\"\n",
    "    \n",
    "    url[0]+=\"?\"\n",
    "    for i in range(len(allowed)):\n",
    "        url[0]+=allowed[i]\n",
    "    \n",
    "    return url[0]\n",
    "\n",
    "\n"
   ]
  },
  {
   "cell_type": "code",
   "execution_count": 410,
   "metadata": {},
   "outputs": [
    {
     "data": {
      "text/plain": [
       "'This is rehtona test'"
      ]
     },
     "execution_count": 410,
     "metadata": {},
     "output_type": "execute_result"
    }
   ],
   "source": [
    "def spin_words(sentence):\n",
    "    return \" \".join([s[::-1] if len(s)>5 else s for s in sentence.split(\" \")])\n",
    "\n",
    "spin_words(\"This is another test\")"
   ]
  },
  {
   "cell_type": "code",
   "execution_count": 437,
   "metadata": {},
   "outputs": [
    {
     "ename": "TypeError",
     "evalue": "list indices must be integers or slices, not list",
     "output_type": "error",
     "traceback": [
      "\u001b[1;31m---------------------------------------------------------------------------\u001b[0m",
      "\u001b[1;31mTypeError\u001b[0m                                 Traceback (most recent call last)",
      "\u001b[1;32m<ipython-input-437-a6e7f857d8b3>\u001b[0m in \u001b[0;36m<module>\u001b[1;34m()\u001b[0m\n\u001b[0;32m      1\u001b[0m \u001b[0ml\u001b[0m\u001b[1;33m=\u001b[0m\u001b[1;33m[\u001b[0m\u001b[1;36m3\u001b[0m\u001b[1;33m,\u001b[0m\u001b[1;36m6\u001b[0m\u001b[1;33m,\u001b[0m\u001b[1;36m7\u001b[0m\u001b[1;33m]\u001b[0m\u001b[1;33m\u001b[0m\u001b[0m\n\u001b[0;32m      2\u001b[0m \u001b[0mstuff\u001b[0m\u001b[1;33m=\u001b[0m\u001b[1;33m[\u001b[0m\u001b[1;32mTrue\u001b[0m\u001b[1;33m,\u001b[0m\u001b[1;32mFalse\u001b[0m\u001b[1;33m,\u001b[0m\u001b[1;32mTrue\u001b[0m\u001b[1;33m]\u001b[0m\u001b[1;33m\u001b[0m\u001b[0m\n\u001b[1;32m----> 3\u001b[1;33m \u001b[0ml\u001b[0m\u001b[1;33m[\u001b[0m\u001b[0mstuff\u001b[0m\u001b[1;33m]\u001b[0m\u001b[1;33m\u001b[0m\u001b[0m\n\u001b[0m",
      "\u001b[1;31mTypeError\u001b[0m: list indices must be integers or slices, not list"
     ]
    }
   ],
   "source": []
  },
  {
   "cell_type": "code",
   "execution_count": 177,
   "metadata": {},
   "outputs": [
    {
     "data": {
      "text/plain": [
       "1"
      ]
     },
     "execution_count": 177,
     "metadata": {},
     "output_type": "execute_result"
    }
   ],
   "source": []
  }
 ],
 "metadata": {
  "kernelspec": {
   "display_name": "Python 3",
   "language": "python",
   "name": "python3"
  },
  "language_info": {
   "codemirror_mode": {
    "name": "ipython",
    "version": 3
   },
   "file_extension": ".py",
   "mimetype": "text/x-python",
   "name": "python",
   "nbconvert_exporter": "python",
   "pygments_lexer": "ipython3",
   "version": "3.6.1"
  }
 },
 "nbformat": 4,
 "nbformat_minor": 2
}
