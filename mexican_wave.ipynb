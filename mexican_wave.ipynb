{
 "cells": [
  {
   "cell_type": "code",
   "execution_count": 1,
   "metadata": {},
   "outputs": [],
   "source": []
  },
  {
   "cell_type": "code",
   "execution_count": 159,
   "metadata": {},
   "outputs": [
    {
     "data": {
      "text/plain": [
       "['Two words',\n",
       " 'tWo words',\n",
       " 'twO words',\n",
       " 'two Words',\n",
       " 'two wOrds',\n",
       " 'two woRds',\n",
       " 'two worDs',\n",
       " 'two wordS']"
      ]
     },
     "execution_count": 159,
     "metadata": {},
     "output_type": "execute_result"
    }
   ],
   "source": [
    "# Task is to create a function that turns a string into a Mexican Wave. You will be passed a\n",
    "#string and you must return that string in an array where an uppercase letter is a person standing up.\n",
    "\n",
    "\n",
    "def wave(s):\n",
    "    return [\"\".join([x.upper() if ix ==iy else x for ix,x in enumerate(s) ])\n",
    "            for iy,y in enumerate([s]*len(s)) if s[iy]!=\" \"]\n",
    "\n",
    "wave(\"two words\")"
   ]
  }
 ],
 "metadata": {
  "kernelspec": {
   "display_name": "Python 3",
   "language": "python",
   "name": "python3"
  },
  "language_info": {
   "codemirror_mode": {
    "name": "ipython",
    "version": 3
   },
   "file_extension": ".py",
   "mimetype": "text/x-python",
   "name": "python",
   "nbconvert_exporter": "python",
   "pygments_lexer": "ipython3",
   "version": "3.7.1"
  }
 },
 "nbformat": 4,
 "nbformat_minor": 2
}
