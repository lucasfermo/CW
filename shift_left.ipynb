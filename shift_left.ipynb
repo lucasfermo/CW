{
 "cells": [
  {
   "cell_type": "code",
   "execution_count": null,
   "metadata": {},
   "outputs": [],
   "source": []
  },
  {
   "cell_type": "code",
   "execution_count": 32,
   "metadata": {},
   "outputs": [
    {
     "data": {
      "text/plain": [
       "7"
      ]
     },
     "execution_count": 32,
     "metadata": {},
     "output_type": "execute_result"
    }
   ],
   "source": [
    "#You are given two strings. In a single move, you can choose any of them, and delete the \n",
    "#first (i.e. leftmost) character.\n",
    "\n",
    "#Implement a function that calculates the minimum number of moves that should be performed\n",
    "#to make the given strings equal.\n",
    "\n",
    "\n",
    "def shift_left(a, b):\n",
    "    a1=[a[i:] for i in range(len(a)+1)]\n",
    "    b1=[b[i:] for i in range(len(b)+1)]\n",
    "    for i in a1:\n",
    "        if i in b1:\n",
    "            return a1.index(i) + b1.index(i)\n",
    "    \n",
    "    \n",
    "shift_left(\"west\",\"yes\")"
   ]
  },
  {
   "cell_type": "code",
   "execution_count": 29,
   "metadata": {},
   "outputs": [
    {
     "data": {
      "text/plain": [
       "0"
      ]
     },
     "execution_count": 29,
     "metadata": {},
     "output_type": "execute_result"
    }
   ],
   "source": []
  }
 ],
 "metadata": {
  "kernelspec": {
   "display_name": "Python 3",
   "language": "python",
   "name": "python3"
  },
  "language_info": {
   "codemirror_mode": {
    "name": "ipython",
    "version": 3
   },
   "file_extension": ".py",
   "mimetype": "text/x-python",
   "name": "python",
   "nbconvert_exporter": "python",
   "pygments_lexer": "ipython3",
   "version": "3.7.1"
  }
 },
 "nbformat": 4,
 "nbformat_minor": 2
}
