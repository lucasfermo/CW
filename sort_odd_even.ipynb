{
 "cells": [
  {
   "cell_type": "code",
   "execution_count": 1,
   "metadata": {},
   "outputs": [],
   "source": []
  },
  {
   "cell_type": "code",
   "execution_count": 66,
   "metadata": {},
   "outputs": [
    {
     "data": {
      "text/plain": [
       "[5, 3, 2, 8, 1, 4]"
      ]
     },
     "execution_count": 66,
     "metadata": {},
     "output_type": "execute_result"
    }
   ],
   "source": [
    "def sort_array(a):\n",
    "    v=[x if x%2 else -x for x  in a ]\n",
    "    index=list(zip(a,[i for i in range(len(a))]))\n",
    "    even=([x for x in index if not x[0]%2])\n",
    "    odd=sorted([x for x in index if x[0]%2])\n",
    "    z=odd+even\n",
    "    z=sorted([(b,a) for a,b in z])\n",
    "    return [x[1] for x in z]\n",
    "    \n",
    "\n",
    "a=[5, 3, 2, 8, 1, 4] \n",
    "sort_array(a)"
   ]
  },
  {
   "cell_type": "code",
   "execution_count": 29,
   "metadata": {},
   "outputs": [
    {
     "data": {
      "text/plain": [
       "[2]"
      ]
     },
     "execution_count": 29,
     "metadata": {},
     "output_type": "execute_result"
    }
   ],
   "source": [
    " index=list(zip(a,[i for i in range(len(a))]))\n",
    "    even=[x for x in index if not x[0]%2]\n",
    "    odd=[x for x in index if x[0]%2]"
   ]
  }
 ],
 "metadata": {
  "kernelspec": {
   "display_name": "Python 3",
   "language": "python",
   "name": "python3"
  },
  "language_info": {
   "codemirror_mode": {
    "name": "ipython",
    "version": 3
   },
   "file_extension": ".py",
   "mimetype": "text/x-python",
   "name": "python",
   "nbconvert_exporter": "python",
   "pygments_lexer": "ipython3",
   "version": "3.7.1"
  }
 },
 "nbformat": 4,
 "nbformat_minor": 2
}
