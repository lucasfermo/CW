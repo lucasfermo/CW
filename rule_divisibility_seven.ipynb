{
 "cells": [
  {
   "cell_type": "code",
   "execution_count": null,
   "metadata": {},
   "outputs": [],
   "source": []
  },
  {
   "cell_type": "code",
   "execution_count": 105,
   "metadata": {},
   "outputs": [
    {
     "data": {
      "text/plain": [
       "[28, 7]"
      ]
     },
     "execution_count": 105,
     "metadata": {},
     "output_type": "execute_result"
    }
   ],
   "source": [
    "#A number m of the form 10x + y is divisible by 7 if and only if x − 2y is divisible by 7.\n",
    "#In other words, subtract twice the last digit from the number formed by the remaining digits.\n",
    "#Continue to do this until a number known to be divisible or not by 7 is obtained; you can\n",
    "#stop when this number has at most 2 digits because you are supposed to know if a number of at most 2\n",
    "#digits is divisible by 7 or not.\n",
    "\n",
    "\n",
    "def seven(m):\n",
    "    c=0\n",
    "    while m>100:\n",
    "        m=(m//10) -  (m%10)*2\n",
    "        c=c+1\n",
    "    return (m,c)\n",
    "\n",
    "seven(477557101)\n",
    "    "
   ]
  }
 ],
 "metadata": {
  "kernelspec": {
   "display_name": "Python 3",
   "language": "python",
   "name": "python3"
  },
  "language_info": {
   "codemirror_mode": {
    "name": "ipython",
    "version": 3
   },
   "file_extension": ".py",
   "mimetype": "text/x-python",
   "name": "python",
   "nbconvert_exporter": "python",
   "pygments_lexer": "ipython3",
   "version": "3.7.1"
  }
 },
 "nbformat": 4,
 "nbformat_minor": 2
}
