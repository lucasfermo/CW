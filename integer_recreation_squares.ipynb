{
 "cells": [
  {
   "cell_type": "code",
   "execution_count": 145,
   "metadata": {},
   "outputs": [],
   "source": [
    "import math"
   ]
  },
  {
   "cell_type": "code",
   "execution_count": 182,
   "metadata": {},
   "outputs": [
    {
     "data": {
      "text/plain": [
       "[[1, 1], [42, 2500], [246, 84100], [287, 84100], [728, 722500]]"
      ]
     },
     "execution_count": 182,
     "metadata": {},
     "output_type": "execute_result"
    }
   ],
   "source": [
    "#Given two integers m, n (1 <= m <= n) we want to find all integers between m and n whose\n",
    "#sum of squared divisors is itself a square. 42 is such a number.\n",
    "\n",
    "\n",
    "def list_squared(m, n):\n",
    "    r=[]\n",
    "    for i in range(m,n+1):\n",
    "        t=sum(list(find_divisors(i)))\n",
    "        s=math.sqrt(t)\n",
    "        if int(s)==s:\n",
    "            r.append([i,int(t)])\n",
    "    return r\n",
    "    \n",
    "def find_divisors(y):\n",
    "    r=[]\n",
    "    for i in range(1,int(math.sqrt(y))+1):\n",
    "        if y%i == 0:\n",
    "            r.append(i)\n",
    "            if i*i != y:\n",
    "                r.append(y/i)\n",
    "    \n",
    "    for div in r:\n",
    "        yield div**2\n",
    "    \n",
    "\n",
    "list_squared(1,1000)"
   ]
  }
 ],
 "metadata": {
  "kernelspec": {
   "display_name": "Python 3",
   "language": "python",
   "name": "python3"
  },
  "language_info": {
   "codemirror_mode": {
    "name": "ipython",
    "version": 3
   },
   "file_extension": ".py",
   "mimetype": "text/x-python",
   "name": "python",
   "nbconvert_exporter": "python",
   "pygments_lexer": "ipython3",
   "version": "3.7.1"
  }
 },
 "nbformat": 4,
 "nbformat_minor": 2
}
