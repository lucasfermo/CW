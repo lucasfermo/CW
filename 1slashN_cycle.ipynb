{
 "cells": [
  {
   "cell_type": "code",
   "execution_count": null,
   "metadata": {},
   "outputs": [],
   "source": []
  },
  {
   "cell_type": "code",
   "execution_count": 48,
   "metadata": {},
   "outputs": [
    {
     "name": "stdout",
     "output_type": "stream",
     "text": [
      "0303030303030303038713810792614822275936603546142578125\n"
     ]
    },
    {
     "data": {
      "text/plain": [
       "-1"
      ]
     },
     "execution_count": 48,
     "metadata": {},
     "output_type": "execute_result"
    }
   ],
   "source": [
    "def cycle(n) :\n",
    "    s= \"{:.1000f}\".format(1/n).split(\".\")[1].rstrip('0')\n",
    "    print(s)\n",
    "    r= split(s)\n",
    "    for i in [2,5]:\n",
    "        if not r%i:\n",
    "            return r\n",
    "    return -1\n",
    "\n",
    "def split(s):\n",
    "    n=len(s)\n",
    "    maxCycle=-1\n",
    "    for div in range(n-1,0,-1):\n",
    "        r=[s[i:i+div] for i in range(0,n,div)]\n",
    "        if len(set(r)) == 1:\n",
    "            maxCycle=div\n",
    "    return maxCycle\n",
    "\n",
    "cycle(33)"
   ]
  },
  {
   "cell_type": "code",
   "execution_count": 29,
   "metadata": {},
   "outputs": [],
   "source": [
    "if all([False,True]):\n",
    "    print(\"1\")"
   ]
  }
 ],
 "metadata": {
  "kernelspec": {
   "display_name": "Python 3",
   "language": "python",
   "name": "python3"
  },
  "language_info": {
   "codemirror_mode": {
    "name": "ipython",
    "version": 3
   },
   "file_extension": ".py",
   "mimetype": "text/x-python",
   "name": "python",
   "nbconvert_exporter": "python",
   "pygments_lexer": "ipython3",
   "version": "3.7.1"
  }
 },
 "nbformat": 4,
 "nbformat_minor": 2
}
