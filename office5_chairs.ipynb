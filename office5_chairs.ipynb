{
 "cells": [
  {
   "cell_type": "code",
   "execution_count": 1,
   "metadata": {},
   "outputs": [],
   "source": []
  },
  {
   "cell_type": "code",
   "execution_count": 116,
   "metadata": {},
   "outputs": [
    {
     "name": "stdout",
     "output_type": "stream",
     "text": [
      "[0, 0, 1, 2, 2]\n"
     ]
    },
    {
     "data": {
      "text/plain": [
       "[0, 0, 1, 2, 2]"
      ]
     },
     "execution_count": 116,
     "metadata": {},
     "output_type": "execute_result"
    }
   ],
   "source": [
    "#You should return an array of integers that shows how many chairs you take from each room in order,\n",
    "#up until you have the required amount.\n",
    "\n",
    "#example: [['XXX', 3], ['XXXXX', 6], ['XXXXXX', 9], ['XXX',2]] when you need 4 chairs:\n",
    "\n",
    "#result -- > [0, 1, 3] (no chairs free in room 0, take 1 from room 1, take 3 from room 2. No need to consider room 4 as you have your 4 chairs already.\n",
    "\n",
    "def meeting(rooms, number):\n",
    "    if not number: return \"Game On\"\n",
    "    s=[x[1]-len(x[0]) if x[1]-len(x[0])>0 else 0  for x in rooms] \n",
    "    r=[]\n",
    "    for i in s:\n",
    "        if sum(r)<number:\n",
    "            r.append(min(i,number-sum(r)))\n",
    "        \n",
    "    return r if sum(r)==number else \"Not Enough\"\n",
    "    \n",
    "rooms=[[\"XXX\", 3], [\"XXXXX\", 6], [\"XXXXXX\", 8]]\n",
    "rooms=[[\"XXX\", 1], [\"XXXXXX\", 6], [\"X\", 2], [\"XXXXXX\", 8], [\"X\", 3], [\"XXX\", 1]]\n",
    "#rooms=[[\"XX\", 2], [\"XXXX\", 6], [\"XXXXX\", 4]]\n",
    "meeting(rooms,5)"
   ]
  },
  {
   "cell_type": "code",
   "execution_count": null,
   "metadata": {},
   "outputs": [],
   "source": []
  }
 ],
 "metadata": {
  "kernelspec": {
   "display_name": "Python 3",
   "language": "python",
   "name": "python3"
  },
  "language_info": {
   "codemirror_mode": {
    "name": "ipython",
    "version": 3
   },
   "file_extension": ".py",
   "mimetype": "text/x-python",
   "name": "python",
   "nbconvert_exporter": "python",
   "pygments_lexer": "ipython3",
   "version": "3.7.1"
  }
 },
 "nbformat": 4,
 "nbformat_minor": 2
}
