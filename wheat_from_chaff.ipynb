{
 "cells": [
  {
   "cell_type": "code",
   "execution_count": 1,
   "metadata": {},
   "outputs": [],
   "source": []
  },
  {
   "cell_type": "code",
   "execution_count": 124,
   "metadata": {},
   "outputs": [
    {
     "name": "stdout",
     "output_type": "stream",
     "text": [
      "([], [-6, -7])\n",
      "([8], [-6])\n",
      "([8, 10], [])\n",
      "([8], [])\n",
      "([], [])\n"
     ]
    },
    {
     "data": {
      "text/plain": [
       "[-7, -6, 10, 8, 9]"
      ]
     },
     "execution_count": 124,
     "metadata": {},
     "output_type": "execute_result"
    }
   ],
   "source": [
    "\n",
    "#Sequence size is at least 3\n",
    "#Return a new sequence, such that negative numbers (chaff) come first, then positive ones (wheat).\n",
    "#Repetition of numbers in the input sequence could occur , so duplications are included when separating.\n",
    "#If a misplaced positive number is found in the front part of the sequence, replace it with the last\n",
    "#misplaced negative number (the one found near the end of the input). The second misplaced positive \n",
    "#number should be swapped with the second last misplaced negative number. Negative numbers found\n",
    "#at the head (begining) of the sequence , should be kept in place .\n",
    "\n",
    "\n",
    "def wheat_from_chaff(values):\n",
    "    r=[]\n",
    "    chaff=[x for x in values if x<0]\n",
    "    wheat=[]\n",
    "    \n",
    "    for i,v in enumerate(values):\n",
    "        if v>0:\n",
    "            if chaff:\n",
    "                r.append(chaff.pop())\n",
    "                wheat.append(v)\n",
    "            elif wheat:\n",
    "                r.append(v)\n",
    "            else:\n",
    "                wheat.append(v)\n",
    "                r.append(wheat.pop(0))\n",
    "        else:\n",
    "            if chaff:\n",
    "                r.append(chaff.pop(0))\n",
    "            elif wheat:\n",
    "                r.append(wheat.pop())\n",
    "            else: \n",
    "                r.append(v)\n",
    "                \n",
    "                \n",
    "                \n",
    "    return r    \n",
    " \n",
    "        \n",
    "values=[8,10,-6,-7,9]\n",
    "wheat_from_chaff(values)"
   ]
  }
 ],
 "metadata": {
  "kernelspec": {
   "display_name": "Python 3",
   "language": "python",
   "name": "python3"
  },
  "language_info": {
   "codemirror_mode": {
    "name": "ipython",
    "version": 3
   },
   "file_extension": ".py",
   "mimetype": "text/x-python",
   "name": "python",
   "nbconvert_exporter": "python",
   "pygments_lexer": "ipython3",
   "version": "3.7.1"
  }
 },
 "nbformat": 4,
 "nbformat_minor": 2
}
