{
 "cells": [
  {
   "cell_type": "code",
   "execution_count": 201,
   "metadata": {},
   "outputs": [],
   "source": []
  },
  {
   "cell_type": "code",
   "execution_count": 487,
   "metadata": {},
   "outputs": [
    {
     "data": {
      "text/plain": [
       "'A wise old owl lived in an oak'"
      ]
     },
     "execution_count": 487,
     "metadata": {},
     "output_type": "execute_result"
    }
   ],
   "source": [
    "#You are given a secret message you need to decipher. Here are the things \n",
    "#you need to know to decipher it:\n",
    "\n",
    "#For each word:\n",
    "    #The second and the last letter is switched (e.g. Hello becomes Holle)\n",
    "    #The first letter is replaced by its character code (e.g. H becomes 72)\n",
    "\n",
    "\n",
    "def decipher_this(string):\n",
    "    return \" \".join([\"\".join([chr(int(\"\".join([z for z in s if ord(z)<58])))]) + \n",
    "                     \"\".join([[z for z in s if ord(z)>58][-1] if i ==0 else\n",
    "                        [z for z in s if ord(z)>58][0] if i==(len([z for z in s if ord(z)>58]))-1 \n",
    "                       else x for i,x in enumerate([z for z in s if ord(z)>58])]) \n",
    "                        for s in string.split(\" \")])\n",
    "    \n",
    "    \n",
    "    \n",
    "decipher_this(\"65 119esi 111dl 111lw 108dvei 105n 97n 111ka\")\n",
    "\n",
    "    \n"
   ]
  },
  {
   "cell_type": "code",
   "execution_count": null,
   "metadata": {},
   "outputs": [],
   "source": []
  }
 ],
 "metadata": {
  "kernelspec": {
   "display_name": "Python 3",
   "language": "python",
   "name": "python3"
  },
  "language_info": {
   "codemirror_mode": {
    "name": "ipython",
    "version": 3
   },
   "file_extension": ".py",
   "mimetype": "text/x-python",
   "name": "python",
   "nbconvert_exporter": "python",
   "pygments_lexer": "ipython3",
   "version": "3.7.1"
  }
 },
 "nbformat": 4,
 "nbformat_minor": 2
}
