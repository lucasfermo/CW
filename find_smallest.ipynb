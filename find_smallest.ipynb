{
 "cells": [
  {
   "cell_type": "code",
   "execution_count": 1,
   "metadata": {},
   "outputs": [],
   "source": []
  },
  {
   "cell_type": "code",
   "execution_count": 366,
   "metadata": {},
   "outputs": [
    {
     "data": {
      "text/plain": [
       "[238565, 3, 1]"
      ]
     },
     "execution_count": 366,
     "metadata": {},
     "output_type": "execute_result"
    }
   ],
   "source": [
    "def smallest(n):\n",
    "    s=[int(x) for x in str(n)]\n",
    "    sort=sorted(s)\n",
    "    for i,v in enumerate(sort):\n",
    "        if v == s[i]:\n",
    "            pass\n",
    "        else:\n",
    "            z=(s.index(v),i)        \n",
    "            break\n",
    "    r=s.copy()\n",
    "    \n",
    "    t=int(r.pop(z[0]))\n",
    "    r.insert(z[1],t)\n",
    "    r=int(\"\".join([str(x) for x in r]))\n",
    "        \n",
    "    return [r,z[0],z[1]]\n",
    "\n",
    "n=209917\n",
    "n=285365\n",
    "smallest(n)"
   ]
  }
 ],
 "metadata": {
  "kernelspec": {
   "display_name": "Python 3",
   "language": "python",
   "name": "python3"
  },
  "language_info": {
   "codemirror_mode": {
    "name": "ipython",
    "version": 3
   },
   "file_extension": ".py",
   "mimetype": "text/x-python",
   "name": "python",
   "nbconvert_exporter": "python",
   "pygments_lexer": "ipython3",
   "version": "3.7.1"
  }
 },
 "nbformat": 4,
 "nbformat_minor": 2
}
