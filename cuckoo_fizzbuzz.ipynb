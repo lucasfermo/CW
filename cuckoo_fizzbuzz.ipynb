{
 "cells": [
  {
   "cell_type": "code",
   "execution_count": 1,
   "metadata": {},
   "outputs": [],
   "source": []
  },
  {
   "cell_type": "code",
   "execution_count": 49,
   "metadata": {},
   "outputs": [
    {
     "data": {
      "text/plain": [
       "'Fizz Buzz'"
      ]
     },
     "execution_count": 49,
     "metadata": {},
     "output_type": "execute_result"
    }
   ],
   "source": [
    "#When a minute is evenly divisible by three, the clock will say the word \"Fizz\".\n",
    "#When a minute is evenly divisible by five, the clock will say the word \"Buzz\".\n",
    "#When a minute is evenly divisible by both, the clock will say \"Fizz Buzz\", with two exceptions:\n",
    "\n",
    "#On the hour, instead of \"Fizz Buzz\", the clock door will open, and the cuckoo bird will come out\n",
    "#and \"Cuckoo\" between one and twelve times depending on the hour.\n",
    "\n",
    "#On the half hour, instead of \"Fizz Buzz\", the clock door will open, and the cuckoo will come out\n",
    "#and \"Cuckoo\" just once.\n",
    "\n",
    "#With minutes that are not evenly divisible by either three or five, at first you had intended to\n",
    "#have the clock just say the numbers ala Fizz Buzz, but then you decided at least for version 1.0 \n",
    "#to just have the clock make a quiet, subtle \"tick\" sound for a little more clock nature and a little\n",
    "#less noise.\n",
    "\n",
    "def fizz_buzz_cuckoo_clock(time):\n",
    "    m=int(time[3:])\n",
    "    h=int(time[:2])\n",
    "    if not m:\n",
    "        return \" \".join([\"Cuckoo\"] * (12 if not (h%12) else (h%12)))\n",
    "    elif not m%30: return \"Cuckoo\"\n",
    "    elif not m%15: return \"Fizz Buzz\"\n",
    "    elif not m%5: return \"Buzz\"\n",
    "    elif not m%3:return \"Fizz\"\n",
    "    return \"tick\"\n",
    "    \n",
    "    \n",
    "fizz_buzz_cuckoo_clock(\"12:15\")"
   ]
  }
 ],
 "metadata": {
  "kernelspec": {
   "display_name": "Python 3",
   "language": "python",
   "name": "python3"
  },
  "language_info": {
   "codemirror_mode": {
    "name": "ipython",
    "version": 3
   },
   "file_extension": ".py",
   "mimetype": "text/x-python",
   "name": "python",
   "nbconvert_exporter": "python",
   "pygments_lexer": "ipython3",
   "version": "3.7.1"
  }
 },
 "nbformat": 4,
 "nbformat_minor": 2
}
