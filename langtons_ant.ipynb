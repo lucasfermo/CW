{
 "cells": [
  {
   "cell_type": "code",
   "execution_count": 201,
   "metadata": {},
   "outputs": [],
   "source": []
  },
  {
   "cell_type": "code",
   "execution_count": 73,
   "metadata": {},
   "outputs": [
    {
     "data": {
      "text/plain": [
       "[[0, 1]]"
      ]
     },
     "execution_count": 73,
     "metadata": {},
     "output_type": "execute_result"
    }
   ],
   "source": [
    "#Langton's ant is a two-dimensional Turing machine invented in the late 1980s.\n",
    "#The ant starts out on a grid of black and white cells and follows a simple set\n",
    "#of rules that has complex emergent behavior.\n",
    "\n",
    "#Parameters:\n",
    "#grid - a two dimensional array of 1s and 0s (representing white and black cells respectively)\n",
    "#column - horizontal position of ant\n",
    "#row - ant's vertical position\n",
    "#n - number of iterations\n",
    "#dir - ant's current direction (0 - north, 1 - east, 2 - south, 3 - west), should default to 0\n",
    "#Note: parameters column and row will always be inside the grid, and number of generations n will \n",
    "#never be negative.\n",
    "\n",
    "#Output\n",
    "#The state of the grid after n iterations.\n",
    "\n",
    "#Rules\n",
    "#The ant can travel in any of the four cardinal directions at each step it takes. The ant moves \n",
    "#according to the rules below:\n",
    "\n",
    "#At a white square (represented with 1), turn 90° right, flip the color of the square, and move\n",
    "#forward one unit.\n",
    "#At a black square (0), turn 90° left, flip the color of the square, and move forward one unit.\n",
    "\n",
    "\n",
    "def ant(grid, column, row, n, direction = 0):\n",
    "    lastRow,lastColumn = row,column\n",
    "    for i in range(n):\n",
    "        currentLocation=grid[lastRow][lastColumn]\n",
    "        if currentLocation:\n",
    "            direction=((direction+1)%4)\n",
    "        else:\n",
    "            direction=((direction-1)%4)\n",
    "        if direction==1:\n",
    "            add=1 if len(grid[row])-1==column else 0 \n",
    "            if add: \n",
    "                for i in grid:\n",
    "                    i.append(0)\n",
    "            column+=1\n",
    "            \n",
    "        if direction==3:\n",
    "            add=1 if column==0 else 0\n",
    "            if add:\n",
    "                for i in grid:\n",
    "                    i.insert(0,0)\n",
    "                lastColumn+=1\n",
    "            column-=(1-add)\n",
    "            \n",
    "            \n",
    "        if direction==0:\n",
    "            add=1 if row==0 else 0\n",
    "            if add: \n",
    "                grid=[[0 for x in grid[0]]] + grid\n",
    "                lastRow+=1\n",
    "            row-=(1-add)\n",
    "            \n",
    "        \n",
    "        if direction==2:\n",
    "            add=1 if row==len(grid)-1 else 0\n",
    "            if add:\n",
    "                grid.append([0 for i in range(len(grid[0]))])\n",
    "            row+=1\n",
    "            \n",
    "        grid[lastRow][lastColumn]=(currentLocation+1)%2\n",
    "        lastRow=row\n",
    "        lastColumn=column\n",
    "      \n",
    "    return grid\n",
    "                \n",
    "            \n",
    "        \n",
    "         \n",
    "        \n",
    "ant([[0]],0,0,1,0)"
   ]
  }
 ],
 "metadata": {
  "kernelspec": {
   "display_name": "Python 3",
   "language": "python",
   "name": "python3"
  },
  "language_info": {
   "codemirror_mode": {
    "name": "ipython",
    "version": 3
   },
   "file_extension": ".py",
   "mimetype": "text/x-python",
   "name": "python",
   "nbconvert_exporter": "python",
   "pygments_lexer": "ipython3",
   "version": "3.7.1"
  }
 },
 "nbformat": 4,
 "nbformat_minor": 2
}
