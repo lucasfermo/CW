{
 "cells": [
  {
   "cell_type": "code",
   "execution_count": 1,
   "metadata": {
    "collapsed": true
   },
   "outputs": [],
   "source": [
    "import math,os"
   ]
  },
  {
   "cell_type": "code",
   "execution_count": 117,
   "metadata": {},
   "outputs": [
    {
     "name": "stdout",
     "output_type": "stream",
     "text": [
      "\n",
      "\n"
     ]
    },
    {
     "data": {
      "text/plain": [
       "'\\n'"
      ]
     },
     "execution_count": 117,
     "metadata": {},
     "output_type": "execute_result"
    }
   ],
   "source": [
    "def custom_christmas_tree(chars,n):\n",
    "    tree=\"\"\n",
    "    count=0\n",
    "    for i in range(n):\n",
    "        line=\" \"*(n-i-1)\n",
    "        for j in range(i+1):\n",
    "            line+=chars[count%len(chars)]\n",
    "            line+=\" \"\n",
    "            count+=1\n",
    "        tree+=line[:-1] + \"\\n\" \n",
    "    trunk=\" \"*(len(line)//2-1) +\"|\"+\"\\n\" \n",
    "    trunk*=n//3\n",
    "    trunk=trunk[:-1]\n",
    "    if n//3==0:\n",
    "        tree=tree[-1]\n",
    "    print (tree + trunk)\n",
    "    return tree+trunk\n",
    "    \n",
    "test=\"*@o\"\n",
    "custom_christmas_tree(\"ag80h1hc16767f4dcd04\",2)"
   ]
  },
  {
   "cell_type": "code",
   "execution_count": 71,
   "metadata": {},
   "outputs": [
    {
     "data": {
      "text/plain": [
       "162863"
      ]
     },
     "execution_count": 71,
     "metadata": {},
     "output_type": "execute_result"
    }
   ],
   "source": [
    "'  *\\n @ o\\n* @ o\\n  |'\n",
    "'  *\\n @ o\\n* @ o\\n  |'"
   ]
  },
  {
   "cell_type": "code",
   "execution_count": 233,
   "metadata": {},
   "outputs": [
    {
     "data": {
      "text/plain": [
       "'olleh'"
      ]
     },
     "execution_count": 233,
     "metadata": {},
     "output_type": "execute_result"
    }
   ],
   "source": []
  }
 ],
 "metadata": {
  "kernelspec": {
   "display_name": "Python 3",
   "language": "python",
   "name": "python3"
  },
  "language_info": {
   "codemirror_mode": {
    "name": "ipython",
    "version": 3
   },
   "file_extension": ".py",
   "mimetype": "text/x-python",
   "name": "python",
   "nbconvert_exporter": "python",
   "pygments_lexer": "ipython3",
   "version": "3.6.1"
  }
 },
 "nbformat": 4,
 "nbformat_minor": 2
}
