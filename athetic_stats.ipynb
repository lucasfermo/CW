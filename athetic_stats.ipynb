{
 "cells": [
  {
   "cell_type": "code",
   "execution_count": 201,
   "metadata": {},
   "outputs": [],
   "source": []
  },
  {
   "cell_type": "code",
   "execution_count": 117,
   "metadata": {},
   "outputs": [
    {
     "data": {
      "text/plain": [
       "'Range: 01|01|18 Average: 01|38|05 Median: 01|32|34'"
      ]
     },
     "execution_count": 117,
     "metadata": {},
     "output_type": "execute_result"
    }
   ],
   "source": [
    "#You are the \"computer expert\" of a local Athletic Association (C.A.A.). Many teams of\n",
    "#runners come to compete. Each time you get a string of all race results of every team\n",
    "#who has run. For example here is a string showing the individual results of a team of 5 runners:\n",
    "\n",
    "#\"01|15|59, 1|47|6, 01|17|20, 1|32|34, 2|3|17\"\n",
    "\n",
    "#To compare the results of the teams you are asked for giving three statistics; range, average and median.\n",
    "\n",
    "def stat(strg):\n",
    "    if strg==\"\": return \"\"\n",
    "    times=[sum([int(x)* (60**(2-i)) for i,x in enumerate(y.split(\"|\"))]) for y in strg.split(\",\")]\n",
    "    times=sorted(times)\n",
    "    r=max(times)-min(times)\n",
    "    a=sum(times)//len(times)\n",
    "    m=(times[(len(times)-1)//2]+times[(len(times)//2)])//2\n",
    "    final=\"Range: {} Average: {} Median: {}\".format(convertToPipe(r),\n",
    "                                                   convertToPipe(a),\n",
    "                                                   convertToPipe(m))\n",
    "    return final\n",
    "\n",
    "def convertToPipe(s):\n",
    "    return \"{:02d}|{:02d}|{:02d}\".format(s//3600,(s//60)%60,s%60)\n",
    "\n",
    "    \n",
    "stat(\"01|15|59, 1|47|16, 01|17|20, 1|32|34, 2|17|17\")\n"
   ]
  }
 ],
 "metadata": {
  "kernelspec": {
   "display_name": "Python 3",
   "language": "python",
   "name": "python3"
  },
  "language_info": {
   "codemirror_mode": {
    "name": "ipython",
    "version": 3
   },
   "file_extension": ".py",
   "mimetype": "text/x-python",
   "name": "python",
   "nbconvert_exporter": "python",
   "pygments_lexer": "ipython3",
   "version": "3.7.1"
  }
 },
 "nbformat": 4,
 "nbformat_minor": 2
}
