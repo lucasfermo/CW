{
 "cells": [
  {
   "cell_type": "code",
   "execution_count": 121,
   "metadata": {
    "collapsed": true
   },
   "outputs": [],
   "source": [
    "import math,os,time"
   ]
  },
  {
   "cell_type": "code",
   "execution_count": 5,
   "metadata": {},
   "outputs": [
    {
     "name": "stdout",
     "output_type": "stream",
     "text": [
      "1\n"
     ]
    },
    {
     "data": {
      "text/plain": [
       "True"
      ]
     },
     "execution_count": 5,
     "metadata": {},
     "output_type": "execute_result"
    }
   ],
   "source": [
    "def check(board):\n",
    "    for i,c in enumerate(board):\n",
    "        for j,d in enumerate(c):\n",
    "            if d == \"q\":\n",
    "                queen=str(i)+str(j)\n",
    "            if d==\"k\":\n",
    "                king=str(i)+str(j)\n",
    "    for i,c in enumerate(queen):\n",
    "        if king[i]==c:\n",
    "            return True\n",
    "    \n",
    "    #Check diagonally\n",
    "    krow,kcol=int(king[0]),int(king[1])\n",
    "    qrow,qcol=int(queen[0]),int(queen[1])\n",
    "    hit=False\n",
    "    if qrow>krow:\n",
    "        if qcol>kcol:\n",
    "            while (qrow>=0 and qrow<5 and qcol>=0 and qrow<5) and not hit:\n",
    "                qcol-=1\n",
    "                qrow-=1\n",
    "                hit=checkHit(qcol,qrow,king)\n",
    "        else:\n",
    "            while (qrow>=0 and qrow<5 and qcol>=0 and qrow<5) and not hit:\n",
    "                qcol+=1\n",
    "                qrow-=1\n",
    "                hit=checkHit(qcol,qrow,king)\n",
    "    else:\n",
    "        if qcol>kcol:\n",
    "            while (qrow>=0 and qrow<5 and qcol>=0 and qrow<5) and not hit:\n",
    "                qcol-=1\n",
    "                qrow+=1\n",
    "                hit=checkHit(qcol,qrow,king)\n",
    "        else:\n",
    "            while (qrow>=0 and qrow<5 and qcol>=0 and qrow<5) and not hit:\n",
    "                qcol+=1\n",
    "                qrow+=1\n",
    "                hit=checkHit(qcol,qrow,king)\n",
    "\n",
    "    return True if hit else False\n",
    "    \n",
    "    \n",
    "    \n",
    "def checkHit(qcol,qrow,king):\n",
    "    temp=str(qrow)+str(qcol)\n",
    "    if temp==king:\n",
    "        return True\n",
    "    return False\n",
    "    \n",
    "    \n",
    "board1 = [ [ '*', 'q', '*', '*', '*' ], [ '*', '*', 'k', '*', '*' ], [ '*', '*', '*', '*', '*' ], [ '*', '*', '*', '*', '*' ], [ '*', '*', '*', '*', '*' ] ]\n",
    "check(board1)"
   ]
  },
  {
   "cell_type": "code",
   "execution_count": 243,
   "metadata": {},
   "outputs": [
    {
     "data": {
      "text/plain": [
       "1"
      ]
     },
     "execution_count": 243,
     "metadata": {},
     "output_type": "execute_result"
    }
   ],
   "source": [
    "test=\"11\"\n",
    "row=test[0]\n",
    "col=test[1]\n",
    "x=int(\"01\")\n",
    "x"
   ]
  },
  {
   "cell_type": "code",
   "execution_count": 69,
   "metadata": {},
   "outputs": [
    {
     "data": {
      "text/plain": [
       "8"
      ]
     },
     "execution_count": 69,
     "metadata": {},
     "output_type": "execute_result"
    }
   ],
   "source": []
  },
  {
   "cell_type": "code",
   "execution_count": null,
   "metadata": {
    "collapsed": true
   },
   "outputs": [],
   "source": []
  },
  {
   "cell_type": "code",
   "execution_count": 12,
   "metadata": {},
   "outputs": [],
   "source": [
    "class Stack:\n",
    "    def __init__(self):\n",
    "        self.items=[]\n",
    "        \n",
    "    def isEmpty(self):\n",
    "        return self.items==[]\n",
    "    \n",
    "    def push(self,x):\n",
    "        self.items.append(x)\n",
    "    \n",
    "    def pop(self):\n",
    "        return self.items.pop()\n",
    "    \n",
    "    def peek(self):\n",
    "        return self.items[len(self.items)-1]\n",
    "    \n",
    "    def size(self):\n",
    "        return len(self.items)\n",
    "    \n",
    "\n"
   ]
  },
  {
   "cell_type": "code",
   "execution_count": 45,
   "metadata": {},
   "outputs": [
    {
     "data": {
      "text/plain": [
       "'10'"
      ]
     },
     "execution_count": 45,
     "metadata": {},
     "output_type": "execute_result"
    }
   ],
   "source": []
  },
  {
   "cell_type": "code",
   "execution_count": 19,
   "metadata": {},
   "outputs": [
    {
     "data": {
      "text/plain": [
       "1"
      ]
     },
     "execution_count": 19,
     "metadata": {},
     "output_type": "execute_result"
    }
   ],
   "source": []
  }
 ],
 "metadata": {
  "kernelspec": {
   "display_name": "Python 3",
   "language": "python",
   "name": "python3"
  },
  "language_info": {
   "codemirror_mode": {
    "name": "ipython",
    "version": 3
   },
   "file_extension": ".py",
   "mimetype": "text/x-python",
   "name": "python",
   "nbconvert_exporter": "python",
   "pygments_lexer": "ipython3",
   "version": "3.6.1"
  }
 },
 "nbformat": 4,
 "nbformat_minor": 2
}
