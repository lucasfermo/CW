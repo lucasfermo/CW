{
 "cells": [
  {
   "cell_type": "code",
   "execution_count": 1,
   "metadata": {},
   "outputs": [],
   "source": []
  },
  {
   "cell_type": "code",
   "execution_count": 130,
   "metadata": {},
   "outputs": [
    {
     "data": {
      "text/plain": [
       "'(A : 200) - (B : 1140)'"
      ]
     },
     "execution_count": 130,
     "metadata": {},
     "output_type": "execute_result"
    }
   ],
   "source": [
    "#Refer to help the Help the bookseller! kata on codewars.coms\n",
    "\n",
    "\n",
    "def stock_list(listOfArt, listOfCat):\n",
    "    if not listOfArt or not listOfCat:\n",
    "        return ''\n",
    "    d={x:0 for x in listOfCat}\n",
    "    for b in listOfArt:\n",
    "        if b[0] in d.keys():\n",
    "            d[b[0]] += int(b.split(\" \")[1])\n",
    "        \n",
    "    return \" - \".join([\"({} : {})\".format(x,d[x]) for x in listOfCat ])\n",
    "\n",
    "    \n",
    "b = [\"ABAR 200\", \"CDXE 500\", \"BKWR 250\", \"BTSQ 890\", \"DRTY 600\"]\n",
    "c = [\"A\", \"B\"]\n",
    "\n",
    "stock_list(b, c)"
   ]
  }
 ],
 "metadata": {
  "kernelspec": {
   "display_name": "Python 3",
   "language": "python",
   "name": "python3"
  },
  "language_info": {
   "codemirror_mode": {
    "name": "ipython",
    "version": 3
   },
   "file_extension": ".py",
   "mimetype": "text/x-python",
   "name": "python",
   "nbconvert_exporter": "python",
   "pygments_lexer": "ipython3",
   "version": "3.7.1"
  }
 },
 "nbformat": 4,
 "nbformat_minor": 2
}
