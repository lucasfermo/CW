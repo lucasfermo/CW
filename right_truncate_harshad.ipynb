{
 "cells": [
  {
   "cell_type": "code",
   "execution_count": 201,
   "metadata": {},
   "outputs": [],
   "source": []
  },
  {
   "cell_type": "code",
   "execution_count": 406,
   "metadata": {},
   "outputs": [
    {
     "data": {
      "text/plain": [
       "[90000040, 90002000, 90200000, 90220000]"
      ]
     },
     "execution_count": 406,
     "metadata": {},
     "output_type": "execute_result"
    }
   ],
   "source": [
    "#Given a range of numbers ([a, b], both included),\n",
    "#return the list of right truncatable Harshad numbers in this range.\n",
    "\n",
    "def rthn_between(a, b):    \n",
    "    s=[x for x in range(a,b+1) if recur_between(x,start=x)]\n",
    "    return s\n",
    "\n",
    "def recur_between(a,start,s=0):\n",
    "    if start<10: return False\n",
    "    if a==0: return True\n",
    "    x=a\n",
    "    while a:\n",
    "        s+= a%10\n",
    "        a//=10\n",
    "    if not x%s:\n",
    "        return recur_between(x//10,start)\n",
    "    return False\n",
    "\n",
    "\n",
    "rthn_between(90000021, 99900021)\n",
    "#rthn_between(10,20)\n",
    "#recur_between('1')\n",
    "\n"
   ]
  }
 ],
 "metadata": {
  "kernelspec": {
   "display_name": "Python 3",
   "language": "python",
   "name": "python3"
  },
  "language_info": {
   "codemirror_mode": {
    "name": "ipython",
    "version": 3
   },
   "file_extension": ".py",
   "mimetype": "text/x-python",
   "name": "python",
   "nbconvert_exporter": "python",
   "pygments_lexer": "ipython3",
   "version": "3.7.1"
  }
 },
 "nbformat": 4,
 "nbformat_minor": 2
}
