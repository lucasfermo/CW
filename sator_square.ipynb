{
 "cells": [
  {
   "cell_type": "code",
   "execution_count": 1,
   "metadata": {},
   "outputs": [],
   "source": []
  },
  {
   "cell_type": "code",
   "execution_count": 32,
   "metadata": {},
   "outputs": [
    {
     "data": {
      "text/plain": [
       "True"
      ]
     },
     "execution_count": 32,
     "metadata": {},
     "output_type": "execute_result"
    }
   ],
   "source": [
    "def is_sator_square(tablet):\n",
    "    v,h=True,True\n",
    "    for x in tablet:\n",
    "        if x[::-1] not in tablet:\n",
    "            h=False\n",
    "    \n",
    "    for i in zip(*tablet):\n",
    "         x.append(list(i))\n",
    "    \n",
    "    for i in x:\n",
    "        if i[::-1] not in x:\n",
    "            v=False\n",
    "    return v and h\n",
    "\n",
    "tablet = [['S', 'T', 'A', 'B'],\n",
    "          ['T', 'U', 'B', 'A'],\n",
    "          ['A', 'B', 'U', 'T'],\n",
    "          ['B', 'A', 'T', 'S']]\n",
    "\n",
    "is_sator_square(tablet)"
   ]
  }
 ],
 "metadata": {
  "kernelspec": {
   "display_name": "Python 3",
   "language": "python",
   "name": "python3"
  },
  "language_info": {
   "codemirror_mode": {
    "name": "ipython",
    "version": 3
   },
   "file_extension": ".py",
   "mimetype": "text/x-python",
   "name": "python",
   "nbconvert_exporter": "python",
   "pygments_lexer": "ipython3",
   "version": "3.7.1"
  }
 },
 "nbformat": 4,
 "nbformat_minor": 2
}
