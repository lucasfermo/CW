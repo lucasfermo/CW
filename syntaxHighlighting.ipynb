{
 "cells": [
  {
   "cell_type": "code",
   "execution_count": 1,
   "metadata": {
    "collapsed": true
   },
   "outputs": [],
   "source": [
    "import math,os"
   ]
  },
  {
   "cell_type": "code",
   "execution_count": 106,
   "metadata": {},
   "outputs": [
    {
     "data": {
      "text/plain": [
       "\"<span style='color: pink'>FFF</span><span style='color: green'>R</span><span style='color: orange'>345</span><span style='color: pink'>F</span><span style='color: orange'>2</span><span style='color: red'>L</span>\""
      ]
     },
     "execution_count": 106,
     "metadata": {},
     "output_type": "execute_result"
    }
   ],
   "source": [
    "def highlight(code):\n",
    "    final=\"\"\n",
    "    innerString=\"\"\n",
    "    digits=\"0123456789\"\n",
    "    brackets=\"()\"\n",
    "    for i,c in enumerate(code):\n",
    "        if c in brackets:\n",
    "            final+=c\n",
    "            continue\n",
    "        if i+1==len(code):\n",
    "            None\n",
    "        else:\n",
    "            forward=code[i+1]\n",
    "            if forward==c:\n",
    "                innerString+=c\n",
    "                continue\n",
    "            elif c in digits and forward in digits:\n",
    "                innerString+=c\n",
    "                continue\n",
    "        innerString+=c\n",
    "        if c==\"F\":\n",
    "            final+='<span style=\"color: pink\">'+innerString+\"</span>\"\n",
    "        elif c==\"L\":\n",
    "            final+='<span style=\"color: red\">'+ innerString+\"</span>\"\n",
    "        elif c==\"R\":\n",
    "            final+='<span style=\"color: green\">' +innerString+\"</span>\"\n",
    "        elif c in digits:\n",
    "            final+='<span style=\"color: orange\">' +innerString+ \"</span>\"\n",
    "        innerString=\"\"\n",
    "    \n",
    "    return final\n",
    "\n",
    "\n",
    "\n",
    "highlight(test)"
   ]
  },
  {
   "cell_type": "code",
   "execution_count": 105,
   "metadata": {},
   "outputs": [],
   "source": [
    "test=\"FFFR345F2L\""
   ]
  },
  {
   "cell_type": "code",
   "execution_count": 57,
   "metadata": {},
   "outputs": [
    {
     "data": {
      "text/plain": [
       "5"
      ]
     },
     "execution_count": 57,
     "metadata": {},
     "output_type": "execute_result"
    }
   ],
   "source": [
    "test[0][1]"
   ]
  }
 ],
 "metadata": {
  "kernelspec": {
   "display_name": "Python 3",
   "language": "python",
   "name": "python3"
  },
  "language_info": {
   "codemirror_mode": {
    "name": "ipython",
    "version": 3
   },
   "file_extension": ".py",
   "mimetype": "text/x-python",
   "name": "python",
   "nbconvert_exporter": "python",
   "pygments_lexer": "ipython3",
   "version": "3.6.1"
  }
 },
 "nbformat": 4,
 "nbformat_minor": 2
}
