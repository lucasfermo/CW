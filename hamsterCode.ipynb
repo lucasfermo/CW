{
 "cells": [
  {
   "cell_type": "code",
   "execution_count": 85,
   "metadata": {
    "collapsed": true
   },
   "outputs": [],
   "source": [
    "import math,os,smtplib\n",
    "\n"
   ]
  },
  {
   "cell_type": "code",
   "execution_count": 306,
   "metadata": {},
   "outputs": [
    {
     "data": {
      "text/plain": [
       "'h1e1h5m4m1e1'"
      ]
     },
     "execution_count": 306,
     "metadata": {},
     "output_type": "execute_result"
    }
   ],
   "source": [
    "def hamster_me(code,message):\n",
    "    code=sorted(code)\n",
    "    d={}\n",
    "    for i in range(26):\n",
    "        count=1\n",
    "        temp=chr(i+97)\n",
    "        current=chr(i+97)\n",
    "        while temp not in code:\n",
    "            temp=chr((i-count)%26+97)\n",
    "            count+=1\n",
    "        if current not in d.values():\n",
    "            d[current]=code[code.index(temp)]+str(count)\n",
    "    temp=\"\"\n",
    "    for i in message:\n",
    "        temp+=d[i]\n",
    "    return temp\n",
    "            \n",
    "        \n",
    "        \n",
    "\n",
    "hamster_me(\"hamster\",\"helpme\")\n"
   ]
  },
  {
   "cell_type": "code",
   "execution_count": 302,
   "metadata": {},
   "outputs": [
    {
     "name": "stdout",
     "output_type": "stream",
     "text": [
      "hes\n"
     ]
    }
   ],
   "source": [
    "d={\"b\":2}\n",
    "if \"a\" not in d.keys():\n",
    "    print('hes')"
   ]
  },
  {
   "cell_type": "code",
   "execution_count": 295,
   "metadata": {},
   "outputs": [
    {
     "data": {
      "text/plain": [
       "['e', 'h', 'l', 'l', 'o']"
      ]
     },
     "execution_count": 295,
     "metadata": {},
     "output_type": "execute_result"
    }
   ],
   "source": [
    "sorted(\"hello\")"
   ]
  },
  {
   "cell_type": "code",
   "execution_count": null,
   "metadata": {},
   "outputs": [],
   "source": []
  }
 ],
 "metadata": {
  "kernelspec": {
   "display_name": "Python 3",
   "language": "python",
   "name": "python3"
  },
  "language_info": {
   "codemirror_mode": {
    "name": "ipython",
    "version": 3
   },
   "file_extension": ".py",
   "mimetype": "text/x-python",
   "name": "python",
   "nbconvert_exporter": "python",
   "pygments_lexer": "ipython3",
   "version": "3.6.1"
  }
 },
 "nbformat": 4,
 "nbformat_minor": 2
}
