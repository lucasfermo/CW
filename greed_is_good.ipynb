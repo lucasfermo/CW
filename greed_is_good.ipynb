{
 "cells": [
  {
   "cell_type": "code",
   "execution_count": 1,
   "metadata": {},
   "outputs": [],
   "source": []
  },
  {
   "cell_type": "code",
   "execution_count": 178,
   "metadata": {},
   "outputs": [
    {
     "data": {
      "text/plain": [
       "1050"
      ]
     },
     "execution_count": 178,
     "metadata": {},
     "output_type": "execute_result"
    }
   ],
   "source": [
    "\"\"\" \n",
    " Three 1's => 1000 points\n",
    " Three 6's =>  600 points\n",
    " Three 5's =>  500 points\n",
    " Three 4's =>  400 points\n",
    " Three 3's =>  300 points\n",
    " Three 2's =>  200 points\n",
    " One   1   =>  100 points\n",
    " One   5   =>   50 point\n",
    "\"\"\"\n",
    "\n",
    "def score(dice):\n",
    "    score=sum([i*100*(dice.count(i)//3) if i!=1 else i*1000*(dice.count(i)//3) for i in range(6) ])\n",
    "    score+=sum([i*10*(dice.count(i)%3) if i!=1 else i*100*(dice.count(i)%3) for i in [1,5]])\n",
    "    return score\n",
    "\n",
    "score([1,1,1,4,5])"
   ]
  },
  {
   "cell_type": "code",
   "execution_count": null,
   "metadata": {},
   "outputs": [],
   "source": [
    "def score(dice):\n",
    "    d,score={},0\n",
    "    for i in dice:\n",
    "        if d.get(i,0):\n",
    "            d[i]+=1\n",
    "        else:\n",
    "            d[i]=1\n",
    "    d=dict((i,d[i]//3) for i in d)\n",
    "    score=sum([i*100 if i!=1 else i*1000 for i in d if d[i]==1])\n",
    "    score+=sum([i*10*d.get(i,0) if i==5 else i*100*d.get(i,0) for i in [1,5] ])\n",
    "    return score"
   ]
  }
 ],
 "metadata": {
  "kernelspec": {
   "display_name": "Python 3",
   "language": "python",
   "name": "python3"
  },
  "language_info": {
   "codemirror_mode": {
    "name": "ipython",
    "version": 3
   },
   "file_extension": ".py",
   "mimetype": "text/x-python",
   "name": "python",
   "nbconvert_exporter": "python",
   "pygments_lexer": "ipython3",
   "version": "3.7.1"
  }
 },
 "nbformat": 4,
 "nbformat_minor": 2
}
