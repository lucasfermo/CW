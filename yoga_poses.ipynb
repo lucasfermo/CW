{
 "cells": [
  {
   "cell_type": "code",
   "execution_count": null,
   "metadata": {},
   "outputs": [],
   "source": []
  },
  {
   "cell_type": "code",
   "execution_count": 109,
   "metadata": {},
   "outputs": [
    {
     "data": {
      "text/plain": [
       "25"
      ]
     },
     "execution_count": 109,
     "metadata": {},
     "output_type": "execute_result"
    }
   ],
   "source": [
    "#A person can complete a yoga pose if the sum of their row and their \n",
    "#skill level is greater than or equal to the value of the pose.\n",
    "\n",
    "#Your task is to return the total amount poses completed for the entire classroom\n",
    "\n",
    "\n",
    "def yoga(classroom, poses):\n",
    "    s=0\n",
    "    for r in classroom:\n",
    "        x=[sum(r) + i for i in r]\n",
    "        y=[len([p for p  in poses if c>=p]) for c in x] \n",
    "        s+=sum(y)\n",
    "    return s\n",
    "        \n",
    "        \n",
    "classroom= [[1,1,0,1], #sum = 3\n",
    "            [2,0,6,0], #sum = 8\n",
    "            [0,2,2,0], #sum = 4\n",
    "            ]\n",
    "poses=[4, 0, 20, 10]\n",
    "\n",
    "yoga(classroom,poses)"
   ]
  },
  {
   "cell_type": "code",
   "execution_count": null,
   "metadata": {},
   "outputs": [],
   "source": []
  }
 ],
 "metadata": {
  "kernelspec": {
   "display_name": "Python 3",
   "language": "python",
   "name": "python3"
  },
  "language_info": {
   "codemirror_mode": {
    "name": "ipython",
    "version": 3
   },
   "file_extension": ".py",
   "mimetype": "text/x-python",
   "name": "python",
   "nbconvert_exporter": "python",
   "pygments_lexer": "ipython3",
   "version": "3.7.1"
  }
 },
 "nbformat": 4,
 "nbformat_minor": 2
}
