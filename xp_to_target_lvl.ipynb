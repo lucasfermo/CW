{
 "cells": [
  {
   "cell_type": "code",
   "execution_count": 1,
   "metadata": {},
   "outputs": [],
   "source": []
  },
  {
   "cell_type": "code",
   "execution_count": 19,
   "metadata": {},
   "outputs": [
    {
     "data": {
      "text/plain": [
       "29535"
      ]
     },
     "execution_count": 19,
     "metadata": {},
     "output_type": "execute_result"
    }
   ],
   "source": [
    "C#reate a function called xp_to_target_lvl that takes 2 arguments(current_xp and target_lvl, both\n",
    "#as integer) and returns the remaining XP for the player to reach the target_lvl formatted as a\n",
    "#rounded down integer.\n",
    "\n",
    "#Leveling up from level 1 to level 2 requires 314 XP, at first each level up requires 25%\n",
    "#XP more than the previous level up, every 10 levels the percentage increase reduces by 1. \n",
    "\n",
    "def xp_to_target_lvl(current_xp=-1, target_lvl=-1):\n",
    "    try:\n",
    "        if current_xp<0 or target_lvl<1 or target_lvl>170: return \"Input is invalid.\"\n",
    "    except:\n",
    "        return \"Input is invalid.\"\n",
    "    lvl=1\n",
    "    xp=0\n",
    "    last=314\n",
    "    while lvl<target_lvl and lvl<170:\n",
    "        xp+=last\n",
    "        last*=(1.25-((lvl+1)//10)/100)\n",
    "        last=int(last)\n",
    "        lvl+=1\n",
    "    return xp-current_xp if xp-current_xp>0 else \"You have already reached level {}.\".format(target_lvl) \n",
    "\n",
    "\n",
    "\n",
    "        \n",
    "        \n",
    "xp_to_target_lvl(12345,17)"
   ]
  },
  {
   "cell_type": "code",
   "execution_count": 131,
   "metadata": {},
   "outputs": [
    {
     "ename": "TypeError",
     "evalue": "'>' not supported between instances of 'str' and 'int'",
     "output_type": "error",
     "traceback": [
      "\u001b[1;31m---------------------------------------------------------------------------\u001b[0m",
      "\u001b[1;31mTypeError\u001b[0m                                 Traceback (most recent call last)",
      "\u001b[1;32m<ipython-input-131-16023b583545>\u001b[0m in \u001b[0;36m<module>\u001b[1;34m\u001b[0m\n\u001b[1;32m----> 1\u001b[1;33m \u001b[1;34m\"a\"\u001b[0m\u001b[1;33m>\u001b[0m\u001b[1;36m0\u001b[0m\u001b[1;33m\u001b[0m\u001b[1;33m\u001b[0m\u001b[0m\n\u001b[0m",
      "\u001b[1;31mTypeError\u001b[0m: '>' not supported between instances of 'str' and 'int'"
     ]
    }
   ],
   "source": [
    "def xp_to_target_lvl(current_xp, target_lvl):\n",
    "    lvl=1\n",
    "    xp=0\n",
    "    while lvl<target_lvl:\n",
    "        reduction=(lvl//10)/100\n",
    "        xp+=int(314*(((1.25-(lvl//10)/100)**(lvl-1))))\n",
    "        lvl+=1\n",
    "    return xp-current_xp\n",
    "\n",
    "\n",
    "xp_to_target_lvl(0,5)"
   ]
  }
 ],
 "metadata": {
  "kernelspec": {
   "display_name": "Python 3",
   "language": "python",
   "name": "python3"
  },
  "language_info": {
   "codemirror_mode": {
    "name": "ipython",
    "version": 3
   },
   "file_extension": ".py",
   "mimetype": "text/x-python",
   "name": "python",
   "nbconvert_exporter": "python",
   "pygments_lexer": "ipython3",
   "version": "3.7.1"
  }
 },
 "nbformat": 4,
 "nbformat_minor": 2
}
