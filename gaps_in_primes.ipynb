{
 "cells": [
  {
   "cell_type": "code",
   "execution_count": 3,
   "metadata": {},
   "outputs": [],
   "source": [
    "import math"
   ]
  },
  {
   "cell_type": "code",
   "execution_count": 121,
   "metadata": {},
   "outputs": [
    {
     "name": "stdout",
     "output_type": "stream",
     "text": [
      "101\n",
      "103\n"
     ]
    },
    {
     "data": {
      "text/plain": [
       "[101, 103]"
      ]
     },
     "execution_count": 121,
     "metadata": {},
     "output_type": "execute_result"
    }
   ],
   "source": [
    "#Given a range of numbers between m and n\n",
    "#Find the first pair of prime numbers that are separated by g\n",
    "\n",
    "def gap(g,m,n):\n",
    "    lastPrime=-1\n",
    "    for i in range(m,n+1):\n",
    "        if all(i%x!=0 for x in range(2,int(math.sqrt(i))+1)):\n",
    "            if i-g == lastPrime:\n",
    "                return [i-g,i] \n",
    "            lastPrime=i\n",
    "    return None\n",
    "\n",
    "gap(2,100,110)\n",
    "#gap(2,100,110)       "
   ]
  }
 ],
 "metadata": {
  "kernelspec": {
   "display_name": "Python 3",
   "language": "python",
   "name": "python3"
  },
  "language_info": {
   "codemirror_mode": {
    "name": "ipython",
    "version": 3
   },
   "file_extension": ".py",
   "mimetype": "text/x-python",
   "name": "python",
   "nbconvert_exporter": "python",
   "pygments_lexer": "ipython3",
   "version": "3.7.1"
  }
 },
 "nbformat": 4,
 "nbformat_minor": 2
}
