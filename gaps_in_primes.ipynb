{
 "cells": [
  {
   "cell_type": "code",
   "execution_count": 59,
   "metadata": {},
   "outputs": [],
   "source": [
    "import math"
   ]
  },
  {
   "cell_type": "code",
   "execution_count": 60,
   "metadata": {},
   "outputs": [
    {
     "data": {
      "text/plain": [
       "[101, 107]"
      ]
     },
     "execution_count": 60,
     "metadata": {},
     "output_type": "execute_result"
    }
   ],
   "source": [
    "\n",
    "\n",
    "def step(g, m, n):\n",
    "    last=-1000\n",
    "    p=[]\n",
    "    for i in yield_primes(m,n+1):\n",
    "        if i-g in p:\n",
    "            return [i-g,i]\n",
    "        p.append(i)\n",
    "\n",
    "def yield_primes(m,n):\n",
    "    for i in range(m,n):\n",
    "        prime=True\n",
    "        if i%2==0:\n",
    "            prime=False\n",
    "        else:\n",
    "            div=math.floor(math.sqrt(i))\n",
    "            for j in range(3,div+1,2):\n",
    "                if i%j==0:\n",
    "                    prime=False\n",
    "                    break\n",
    "        \n",
    "        if prime:\n",
    "            yield i\n",
    "        \n",
    "        \n",
    "step(6,100,110)"
   ]
  },
  {
   "cell_type": "code",
   "execution_count": null,
   "metadata": {},
   "outputs": [],
   "source": [
    "\n",
    "\n",
    "def step(g, m, n):\n",
    "    last=-1000\n",
    "    p=[]\n",
    "    for i in yield_primes(m,n+1):\n",
    "        if i-g in p:\n",
    "            return [i-g,i]\n",
    "        p.append(i)\n",
    "\n",
    "def yield_primes(m,n):\n",
    "    for i in range(m,n):\n",
    "        prime=True\n",
    "        for j in range(2, (i//2)+1):\n",
    "            if i%j==0:\n",
    "                prime=False\n",
    "                break\n",
    "        if prime:\n",
    "            yield i\n",
    "        \n",
    "        \n",
    "step(6,100,110)"
   ]
  }
 ],
 "metadata": {
  "kernelspec": {
   "display_name": "Python 3",
   "language": "python",
   "name": "python3"
  },
  "language_info": {
   "codemirror_mode": {
    "name": "ipython",
    "version": 3
   },
   "file_extension": ".py",
   "mimetype": "text/x-python",
   "name": "python",
   "nbconvert_exporter": "python",
   "pygments_lexer": "ipython3",
   "version": "3.7.1"
  }
 },
 "nbformat": 4,
 "nbformat_minor": 2
}
