{
 "cells": [
  {
   "cell_type": "code",
   "execution_count": null,
   "metadata": {},
   "outputs": [],
   "source": []
  },
  {
   "cell_type": "code",
   "execution_count": 41,
   "metadata": {},
   "outputs": [
    {
     "data": {
      "text/plain": [
       "87"
      ]
     },
     "execution_count": 41,
     "metadata": {},
     "output_type": "execute_result"
    }
   ],
   "source": [
    "#When you divide the successive powers of 10 by 13 you get the following remainders \n",
    "#of the integer divisions:\n",
    "\n",
    "#1, 10, 9, 12, 3, 4.\n",
    "\n",
    "#Multiply the right most digit of the number with the left\n",
    "#most number in the sequence shown above, the second right most digit to the second\n",
    "#left most digit of the number in the sequence. The cycle goes on and you sum all these \n",
    "#products. Repeat this process until the sequence of sums is stationary.\n",
    "\n",
    "\n",
    "def thirt(n):\n",
    "    # your code\n",
    "    l=[1,10,9,12,3,4]\n",
    "    s=0\n",
    "    for i,x in enumerate(str(n)[::-1]):\n",
    "        s+=int(x)*l[i%6]\n",
    "    if s != n:\n",
    "        return thirt(s)\n",
    "    return s\n",
    "\n",
    "thirt(1234567)\n",
    "    \n",
    "    "
   ]
  }
 ],
 "metadata": {
  "kernelspec": {
   "display_name": "Python 3",
   "language": "python",
   "name": "python3"
  }
 },
 "nbformat": 4,
 "nbformat_minor": 2
}
