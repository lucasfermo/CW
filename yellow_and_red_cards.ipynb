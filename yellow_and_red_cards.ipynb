{
 "cells": [
  {
   "cell_type": "code",
   "execution_count": 1,
   "metadata": {},
   "outputs": [],
   "source": []
  },
  {
   "cell_type": "code",
   "execution_count": 84,
   "metadata": {},
   "outputs": [
    {
     "data": {
      "text/plain": [
       "(10, 11)"
      ]
     },
     "execution_count": 84,
     "metadata": {},
     "output_type": "execute_result"
    }
   ],
   "source": [
    "#See \"Football - Yellow and Red Cards\" on Codewars for description\n",
    "\n",
    "\n",
    "def men_still_standing(cards):\n",
    "    d=dict(A={},B={})\n",
    "    players=dict(A=11,B=11)\n",
    "    sentOff=[]\n",
    "    for v in cards:\n",
    "        num=v[1:len(v)-1]\n",
    "        team=v[0]\n",
    "        card = v[len(v)-1]\n",
    "        card_weight=1\n",
    "        if card == 'R':card_weight=2\n",
    "        if num in d[team].keys() :\n",
    "            if d[team][num]<2:\n",
    "                d[team][num]=2\n",
    "                players[team]-=1\n",
    "        else:\n",
    "            d[team][num]=card_weight\n",
    "            if d[team][num]==2:\n",
    "                players[team]-=1\n",
    "        for k in players.keys():\n",
    "            if players[k]<7: return (players[\"A\"],players[\"B\"])\n",
    "        \n",
    "    return (players[\"A\"],players[\"B\"])\n",
    "    \n",
    "    \n",
    "men_still_standing([\"A4Y\", \"A4R\"])"
   ]
  },
  {
   "cell_type": "code",
   "execution_count": 72,
   "metadata": {},
   "outputs": [
    {
     "ename": "AssertionError",
     "evalue": "Not good",
     "output_type": "error",
     "traceback": [
      "\u001b[1;31m---------------------------------------------------------------------------\u001b[0m",
      "\u001b[1;31mAssertionError\u001b[0m                            Traceback (most recent call last)",
      "\u001b[1;32m<ipython-input-72-15fbd13d5ab2>\u001b[0m in \u001b[0;36m<module>\u001b[1;34m\u001b[0m\n\u001b[0;32m      1\u001b[0m \u001b[1;34m\"A4Y\"\u001b[0m\u001b[1;33m[\u001b[0m\u001b[1;36m1\u001b[0m\u001b[1;33m:\u001b[0m\u001b[1;36m2\u001b[0m\u001b[1;33m]\u001b[0m\u001b[1;33m\u001b[0m\u001b[1;33m\u001b[0m\u001b[0m\n\u001b[1;32m----> 2\u001b[1;33m \u001b[1;32massert\u001b[0m \u001b[1;36m4\u001b[0m \u001b[1;33m==\u001b[0m \u001b[1;36m5\u001b[0m\u001b[1;33m,\u001b[0m \u001b[1;34m\"Not good\"\u001b[0m\u001b[1;33m\u001b[0m\u001b[1;33m\u001b[0m\u001b[0m\n\u001b[0m",
      "\u001b[1;31mAssertionError\u001b[0m: Not good"
     ]
    }
   ],
   "source": []
  }
 ],
 "metadata": {
  "kernelspec": {
   "display_name": "Python 3",
   "language": "python",
   "name": "python3"
  },
  "language_info": {
   "codemirror_mode": {
    "name": "ipython",
    "version": 3
   },
   "file_extension": ".py",
   "mimetype": "text/x-python",
   "name": "python",
   "nbconvert_exporter": "python",
   "pygments_lexer": "ipython3",
   "version": "3.7.1"
  }
 },
 "nbformat": 4,
 "nbformat_minor": 2
}
