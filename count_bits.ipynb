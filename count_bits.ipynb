{
 "cells": [
  {
   "cell_type": "code",
   "execution_count": 1,
   "metadata": {},
   "outputs": [],
   "source": []
  },
  {
   "cell_type": "code",
   "execution_count": 304,
   "metadata": {},
   "outputs": [
    {
     "data": {
      "text/plain": [
       "1"
      ]
     },
     "execution_count": 304,
     "metadata": {},
     "output_type": "execute_result"
    }
   ],
   "source": [
    "#Write a function that takes an integer as input, and returns the number of bits that are\n",
    "#equal to one in the binary representation of that number. You can guarantee that input is non-negative.\n",
    "\n",
    "\n",
    "\n",
    "def countBits(n):\n",
    "    s=\"\"\n",
    "    while n>0:\n",
    "        s+=str(n%2)\n",
    "        n//=2\n",
    "        \n",
    "    return sum([int(x) for x in s])\n",
    "\n",
    "countBits(8)"
   ]
  }
 ],
 "metadata": {
  "kernelspec": {
   "display_name": "Python 3",
   "language": "python",
   "name": "python3"
  },
  "language_info": {
   "codemirror_mode": {
    "name": "ipython",
    "version": 3
   },
   "file_extension": ".py",
   "mimetype": "text/x-python",
   "name": "python",
   "nbconvert_exporter": "python",
   "pygments_lexer": "ipython3",
   "version": "3.7.1"
  }
 },
 "nbformat": 4,
 "nbformat_minor": 2
}
