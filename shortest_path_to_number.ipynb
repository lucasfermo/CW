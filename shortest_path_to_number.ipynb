{
 "cells": [
  {
   "cell_type": "code",
   "execution_count": 1,
   "metadata": {},
   "outputs": [],
   "source": []
  },
  {
   "cell_type": "code",
   "execution_count": 5,
   "metadata": {},
   "outputs": [
    {
     "data": {
      "text/plain": [
       "[1, 2, 5, 7, 10, 14, 35]"
      ]
     },
     "execution_count": 5,
     "metadata": {},
     "output_type": "execute_result"
    }
   ],
   "source": [
    "def shortest_steps_to_num(num):\n",
    "    s=0\n",
    "    x=1\n",
    "    if num%2:\n",
    "        num=num-1\n",
    "        s+=1\n",
    "    \n",
    "def get_factors(num):\n",
    "    r=[]\n",
    "    for i in range(1,(num//2)+1):\n",
    "        if not num%i:\n",
    "            r.append(i)\n",
    "    return r\n",
    "\n",
    "\n",
    "get_factors(70)\n",
    "    \n",
    "        \n",
    "    \n",
    "    \n",
    "#shortest_steps_to_num(12)"
   ]
  }
 ],
 "metadata": {
  "kernelspec": {
   "display_name": "Python 3",
   "language": "python",
   "name": "python3"
  },
  "language_info": {
   "codemirror_mode": {
    "name": "ipython",
    "version": 3
   },
   "file_extension": ".py",
   "mimetype": "text/x-python",
   "name": "python",
   "nbconvert_exporter": "python",
   "pygments_lexer": "ipython3",
   "version": "3.7.1"
  }
 },
 "nbformat": 4,
 "nbformat_minor": 2
}
